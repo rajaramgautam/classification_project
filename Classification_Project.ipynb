{
 "cells": [
  {
   "cell_type": "code",
   "execution_count": 1,
   "id": "820cc07d",
   "metadata": {},
   "outputs": [],
   "source": [
    "import numpy as np\n",
    "import pandas as pd\n",
    "\n",
    "from sklearn.model_selection import train_test_split\n",
    "from sklearn.linear_model import LogisticRegression\n",
    "from sklearn.metrics import classification_report\n",
    "from sklearn.metrics import confusion_matrix\n",
    "from sklearn.metrics import f1_score\n",
    "from sklearn.tree import DecisionTreeClassifier\n",
    "from sklearn.ensemble import RandomForestClassifier\n",
    "from sklearn.tree import export_graphviz\n",
    "from sklearn.neighbors import KNeighborsClassifier\n",
    "\n",
    "# ignore warnings\n",
    "import warnings\n",
    "warnings.filterwarnings(\"ignore\")\n",
    "\n",
    "from scipy import stats\n",
    "alpha = 0.05\n",
    "\n",
    "import matplotlib.pyplot as plt\n",
    "import seaborn as sns\n",
    "\n",
    "\n",
    "\n",
    "\n",
    "import graphviz\n",
    "import acquire\n",
    "import prepare\n",
    "from graphviz import Graph\n",
    "\n",
    "from prepare import prep_titanic_data"
   ]
  },
  {
   "cell_type": "markdown",
   "id": "dfcfb90a",
   "metadata": {},
   "source": [
    "### Acquire Data of Telco Churn"
   ]
  },
  {
   "cell_type": "code",
   "execution_count": 2,
   "id": "521d4f65",
   "metadata": {},
   "outputs": [
    {
     "data": {
      "text/html": [
       "<div>\n",
       "<style scoped>\n",
       "    .dataframe tbody tr th:only-of-type {\n",
       "        vertical-align: middle;\n",
       "    }\n",
       "\n",
       "    .dataframe tbody tr th {\n",
       "        vertical-align: top;\n",
       "    }\n",
       "\n",
       "    .dataframe thead th {\n",
       "        text-align: right;\n",
       "    }\n",
       "</style>\n",
       "<table border=\"1\" class=\"dataframe\">\n",
       "  <thead>\n",
       "    <tr style=\"text-align: right;\">\n",
       "      <th></th>\n",
       "      <th>payment_type_id</th>\n",
       "      <th>internet_service_type_id</th>\n",
       "      <th>contract_type_id</th>\n",
       "      <th>customer_id</th>\n",
       "      <th>gender</th>\n",
       "      <th>senior_citizen</th>\n",
       "      <th>partner</th>\n",
       "      <th>dependents</th>\n",
       "      <th>tenure</th>\n",
       "      <th>phone_service</th>\n",
       "      <th>...</th>\n",
       "      <th>tech_support</th>\n",
       "      <th>streaming_tv</th>\n",
       "      <th>streaming_movies</th>\n",
       "      <th>paperless_billing</th>\n",
       "      <th>monthly_charges</th>\n",
       "      <th>total_charges</th>\n",
       "      <th>churn</th>\n",
       "      <th>contract_type</th>\n",
       "      <th>internet_service_type</th>\n",
       "      <th>payment_type</th>\n",
       "    </tr>\n",
       "  </thead>\n",
       "  <tbody>\n",
       "    <tr>\n",
       "      <th>0</th>\n",
       "      <td>2</td>\n",
       "      <td>1</td>\n",
       "      <td>3</td>\n",
       "      <td>0016-QLJIS</td>\n",
       "      <td>Female</td>\n",
       "      <td>0</td>\n",
       "      <td>Yes</td>\n",
       "      <td>Yes</td>\n",
       "      <td>65</td>\n",
       "      <td>Yes</td>\n",
       "      <td>...</td>\n",
       "      <td>Yes</td>\n",
       "      <td>Yes</td>\n",
       "      <td>Yes</td>\n",
       "      <td>Yes</td>\n",
       "      <td>90.45</td>\n",
       "      <td>5957.9</td>\n",
       "      <td>No</td>\n",
       "      <td>Two year</td>\n",
       "      <td>DSL</td>\n",
       "      <td>Mailed check</td>\n",
       "    </tr>\n",
       "    <tr>\n",
       "      <th>1</th>\n",
       "      <td>4</td>\n",
       "      <td>1</td>\n",
       "      <td>3</td>\n",
       "      <td>0017-DINOC</td>\n",
       "      <td>Male</td>\n",
       "      <td>0</td>\n",
       "      <td>No</td>\n",
       "      <td>No</td>\n",
       "      <td>54</td>\n",
       "      <td>No</td>\n",
       "      <td>...</td>\n",
       "      <td>Yes</td>\n",
       "      <td>Yes</td>\n",
       "      <td>No</td>\n",
       "      <td>No</td>\n",
       "      <td>45.20</td>\n",
       "      <td>2460.55</td>\n",
       "      <td>No</td>\n",
       "      <td>Two year</td>\n",
       "      <td>DSL</td>\n",
       "      <td>Credit card (automatic)</td>\n",
       "    </tr>\n",
       "    <tr>\n",
       "      <th>2</th>\n",
       "      <td>3</td>\n",
       "      <td>1</td>\n",
       "      <td>3</td>\n",
       "      <td>0019-GFNTW</td>\n",
       "      <td>Female</td>\n",
       "      <td>0</td>\n",
       "      <td>No</td>\n",
       "      <td>No</td>\n",
       "      <td>56</td>\n",
       "      <td>No</td>\n",
       "      <td>...</td>\n",
       "      <td>Yes</td>\n",
       "      <td>No</td>\n",
       "      <td>No</td>\n",
       "      <td>No</td>\n",
       "      <td>45.05</td>\n",
       "      <td>2560.1</td>\n",
       "      <td>No</td>\n",
       "      <td>Two year</td>\n",
       "      <td>DSL</td>\n",
       "      <td>Bank transfer (automatic)</td>\n",
       "    </tr>\n",
       "    <tr>\n",
       "      <th>3</th>\n",
       "      <td>4</td>\n",
       "      <td>1</td>\n",
       "      <td>3</td>\n",
       "      <td>0056-EPFBG</td>\n",
       "      <td>Male</td>\n",
       "      <td>0</td>\n",
       "      <td>Yes</td>\n",
       "      <td>Yes</td>\n",
       "      <td>20</td>\n",
       "      <td>No</td>\n",
       "      <td>...</td>\n",
       "      <td>Yes</td>\n",
       "      <td>No</td>\n",
       "      <td>No</td>\n",
       "      <td>Yes</td>\n",
       "      <td>39.40</td>\n",
       "      <td>825.4</td>\n",
       "      <td>No</td>\n",
       "      <td>Two year</td>\n",
       "      <td>DSL</td>\n",
       "      <td>Credit card (automatic)</td>\n",
       "    </tr>\n",
       "    <tr>\n",
       "      <th>4</th>\n",
       "      <td>3</td>\n",
       "      <td>1</td>\n",
       "      <td>3</td>\n",
       "      <td>0078-XZMHT</td>\n",
       "      <td>Male</td>\n",
       "      <td>0</td>\n",
       "      <td>Yes</td>\n",
       "      <td>No</td>\n",
       "      <td>72</td>\n",
       "      <td>Yes</td>\n",
       "      <td>...</td>\n",
       "      <td>Yes</td>\n",
       "      <td>Yes</td>\n",
       "      <td>Yes</td>\n",
       "      <td>Yes</td>\n",
       "      <td>85.15</td>\n",
       "      <td>6316.2</td>\n",
       "      <td>No</td>\n",
       "      <td>Two year</td>\n",
       "      <td>DSL</td>\n",
       "      <td>Bank transfer (automatic)</td>\n",
       "    </tr>\n",
       "    <tr>\n",
       "      <th>...</th>\n",
       "      <td>...</td>\n",
       "      <td>...</td>\n",
       "      <td>...</td>\n",
       "      <td>...</td>\n",
       "      <td>...</td>\n",
       "      <td>...</td>\n",
       "      <td>...</td>\n",
       "      <td>...</td>\n",
       "      <td>...</td>\n",
       "      <td>...</td>\n",
       "      <td>...</td>\n",
       "      <td>...</td>\n",
       "      <td>...</td>\n",
       "      <td>...</td>\n",
       "      <td>...</td>\n",
       "      <td>...</td>\n",
       "      <td>...</td>\n",
       "      <td>...</td>\n",
       "      <td>...</td>\n",
       "      <td>...</td>\n",
       "      <td>...</td>\n",
       "    </tr>\n",
       "    <tr>\n",
       "      <th>7038</th>\n",
       "      <td>2</td>\n",
       "      <td>3</td>\n",
       "      <td>1</td>\n",
       "      <td>9962-BFPDU</td>\n",
       "      <td>Female</td>\n",
       "      <td>0</td>\n",
       "      <td>Yes</td>\n",
       "      <td>Yes</td>\n",
       "      <td>1</td>\n",
       "      <td>Yes</td>\n",
       "      <td>...</td>\n",
       "      <td>No internet service</td>\n",
       "      <td>No internet service</td>\n",
       "      <td>No internet service</td>\n",
       "      <td>No</td>\n",
       "      <td>20.05</td>\n",
       "      <td>20.05</td>\n",
       "      <td>No</td>\n",
       "      <td>Month-to-month</td>\n",
       "      <td>None</td>\n",
       "      <td>Mailed check</td>\n",
       "    </tr>\n",
       "    <tr>\n",
       "      <th>7039</th>\n",
       "      <td>2</td>\n",
       "      <td>3</td>\n",
       "      <td>1</td>\n",
       "      <td>9967-ATRFS</td>\n",
       "      <td>Female</td>\n",
       "      <td>0</td>\n",
       "      <td>No</td>\n",
       "      <td>No</td>\n",
       "      <td>19</td>\n",
       "      <td>Yes</td>\n",
       "      <td>...</td>\n",
       "      <td>No internet service</td>\n",
       "      <td>No internet service</td>\n",
       "      <td>No internet service</td>\n",
       "      <td>No</td>\n",
       "      <td>19.90</td>\n",
       "      <td>367.55</td>\n",
       "      <td>No</td>\n",
       "      <td>Month-to-month</td>\n",
       "      <td>None</td>\n",
       "      <td>Mailed check</td>\n",
       "    </tr>\n",
       "    <tr>\n",
       "      <th>7040</th>\n",
       "      <td>4</td>\n",
       "      <td>3</td>\n",
       "      <td>1</td>\n",
       "      <td>9970-QBCDA</td>\n",
       "      <td>Female</td>\n",
       "      <td>0</td>\n",
       "      <td>No</td>\n",
       "      <td>No</td>\n",
       "      <td>6</td>\n",
       "      <td>Yes</td>\n",
       "      <td>...</td>\n",
       "      <td>No internet service</td>\n",
       "      <td>No internet service</td>\n",
       "      <td>No internet service</td>\n",
       "      <td>No</td>\n",
       "      <td>19.70</td>\n",
       "      <td>129.55</td>\n",
       "      <td>No</td>\n",
       "      <td>Month-to-month</td>\n",
       "      <td>None</td>\n",
       "      <td>Credit card (automatic)</td>\n",
       "    </tr>\n",
       "    <tr>\n",
       "      <th>7041</th>\n",
       "      <td>2</td>\n",
       "      <td>3</td>\n",
       "      <td>1</td>\n",
       "      <td>9975-SKRNR</td>\n",
       "      <td>Male</td>\n",
       "      <td>0</td>\n",
       "      <td>No</td>\n",
       "      <td>No</td>\n",
       "      <td>1</td>\n",
       "      <td>Yes</td>\n",
       "      <td>...</td>\n",
       "      <td>No internet service</td>\n",
       "      <td>No internet service</td>\n",
       "      <td>No internet service</td>\n",
       "      <td>No</td>\n",
       "      <td>18.90</td>\n",
       "      <td>18.9</td>\n",
       "      <td>No</td>\n",
       "      <td>Month-to-month</td>\n",
       "      <td>None</td>\n",
       "      <td>Mailed check</td>\n",
       "    </tr>\n",
       "    <tr>\n",
       "      <th>7042</th>\n",
       "      <td>3</td>\n",
       "      <td>3</td>\n",
       "      <td>1</td>\n",
       "      <td>9986-BONCE</td>\n",
       "      <td>Female</td>\n",
       "      <td>0</td>\n",
       "      <td>No</td>\n",
       "      <td>No</td>\n",
       "      <td>4</td>\n",
       "      <td>Yes</td>\n",
       "      <td>...</td>\n",
       "      <td>No internet service</td>\n",
       "      <td>No internet service</td>\n",
       "      <td>No internet service</td>\n",
       "      <td>No</td>\n",
       "      <td>20.95</td>\n",
       "      <td>85.5</td>\n",
       "      <td>Yes</td>\n",
       "      <td>Month-to-month</td>\n",
       "      <td>None</td>\n",
       "      <td>Bank transfer (automatic)</td>\n",
       "    </tr>\n",
       "  </tbody>\n",
       "</table>\n",
       "<p>7043 rows × 24 columns</p>\n",
       "</div>"
      ],
      "text/plain": [
       "      payment_type_id  internet_service_type_id  contract_type_id customer_id  \\\n",
       "0                   2                         1                 3  0016-QLJIS   \n",
       "1                   4                         1                 3  0017-DINOC   \n",
       "2                   3                         1                 3  0019-GFNTW   \n",
       "3                   4                         1                 3  0056-EPFBG   \n",
       "4                   3                         1                 3  0078-XZMHT   \n",
       "...               ...                       ...               ...         ...   \n",
       "7038                2                         3                 1  9962-BFPDU   \n",
       "7039                2                         3                 1  9967-ATRFS   \n",
       "7040                4                         3                 1  9970-QBCDA   \n",
       "7041                2                         3                 1  9975-SKRNR   \n",
       "7042                3                         3                 1  9986-BONCE   \n",
       "\n",
       "      gender  senior_citizen partner dependents  tenure phone_service  ...  \\\n",
       "0     Female               0     Yes        Yes      65           Yes  ...   \n",
       "1       Male               0      No         No      54            No  ...   \n",
       "2     Female               0      No         No      56            No  ...   \n",
       "3       Male               0     Yes        Yes      20            No  ...   \n",
       "4       Male               0     Yes         No      72           Yes  ...   \n",
       "...      ...             ...     ...        ...     ...           ...  ...   \n",
       "7038  Female               0     Yes        Yes       1           Yes  ...   \n",
       "7039  Female               0      No         No      19           Yes  ...   \n",
       "7040  Female               0      No         No       6           Yes  ...   \n",
       "7041    Male               0      No         No       1           Yes  ...   \n",
       "7042  Female               0      No         No       4           Yes  ...   \n",
       "\n",
       "             tech_support         streaming_tv     streaming_movies  \\\n",
       "0                     Yes                  Yes                  Yes   \n",
       "1                     Yes                  Yes                   No   \n",
       "2                     Yes                   No                   No   \n",
       "3                     Yes                   No                   No   \n",
       "4                     Yes                  Yes                  Yes   \n",
       "...                   ...                  ...                  ...   \n",
       "7038  No internet service  No internet service  No internet service   \n",
       "7039  No internet service  No internet service  No internet service   \n",
       "7040  No internet service  No internet service  No internet service   \n",
       "7041  No internet service  No internet service  No internet service   \n",
       "7042  No internet service  No internet service  No internet service   \n",
       "\n",
       "     paperless_billing monthly_charges total_charges churn   contract_type  \\\n",
       "0                  Yes           90.45        5957.9    No        Two year   \n",
       "1                   No           45.20       2460.55    No        Two year   \n",
       "2                   No           45.05        2560.1    No        Two year   \n",
       "3                  Yes           39.40         825.4    No        Two year   \n",
       "4                  Yes           85.15        6316.2    No        Two year   \n",
       "...                ...             ...           ...   ...             ...   \n",
       "7038                No           20.05         20.05    No  Month-to-month   \n",
       "7039                No           19.90        367.55    No  Month-to-month   \n",
       "7040                No           19.70        129.55    No  Month-to-month   \n",
       "7041                No           18.90          18.9    No  Month-to-month   \n",
       "7042                No           20.95          85.5   Yes  Month-to-month   \n",
       "\n",
       "      internet_service_type               payment_type  \n",
       "0                       DSL               Mailed check  \n",
       "1                       DSL    Credit card (automatic)  \n",
       "2                       DSL  Bank transfer (automatic)  \n",
       "3                       DSL    Credit card (automatic)  \n",
       "4                       DSL  Bank transfer (automatic)  \n",
       "...                     ...                        ...  \n",
       "7038                   None               Mailed check  \n",
       "7039                   None               Mailed check  \n",
       "7040                   None    Credit card (automatic)  \n",
       "7041                   None               Mailed check  \n",
       "7042                   None  Bank transfer (automatic)  \n",
       "\n",
       "[7043 rows x 24 columns]"
      ]
     },
     "execution_count": 2,
     "metadata": {},
     "output_type": "execute_result"
    }
   ],
   "source": [
    "df = acquire.get_telco_data()\n",
    "df"
   ]
  },
  {
   "cell_type": "markdown",
   "id": "b8d0c100",
   "metadata": {},
   "source": [
    "### Prepare Data of Telco Churn"
   ]
  },
  {
   "cell_type": "code",
   "execution_count": 3,
   "id": "628b5e6b",
   "metadata": {},
   "outputs": [
    {
     "name": "stdout",
     "output_type": "stream",
     "text": [
      "<class 'pandas.core.frame.DataFrame'>\n",
      "RangeIndex: 7043 entries, 0 to 7042\n",
      "Data columns (total 24 columns):\n",
      " #   Column                    Non-Null Count  Dtype  \n",
      "---  ------                    --------------  -----  \n",
      " 0   payment_type_id           7043 non-null   int64  \n",
      " 1   internet_service_type_id  7043 non-null   int64  \n",
      " 2   contract_type_id          7043 non-null   int64  \n",
      " 3   customer_id               7043 non-null   object \n",
      " 4   gender                    7043 non-null   object \n",
      " 5   senior_citizen            7043 non-null   int64  \n",
      " 6   partner                   7043 non-null   object \n",
      " 7   dependents                7043 non-null   object \n",
      " 8   tenure                    7043 non-null   int64  \n",
      " 9   phone_service             7043 non-null   object \n",
      " 10  multiple_lines            7043 non-null   object \n",
      " 11  online_security           7043 non-null   object \n",
      " 12  online_backup             7043 non-null   object \n",
      " 13  device_protection         7043 non-null   object \n",
      " 14  tech_support              7043 non-null   object \n",
      " 15  streaming_tv              7043 non-null   object \n",
      " 16  streaming_movies          7043 non-null   object \n",
      " 17  paperless_billing         7043 non-null   object \n",
      " 18  monthly_charges           7043 non-null   float64\n",
      " 19  total_charges             7043 non-null   object \n",
      " 20  churn                     7043 non-null   object \n",
      " 21  contract_type             7043 non-null   object \n",
      " 22  internet_service_type     7043 non-null   object \n",
      " 23  payment_type              7043 non-null   object \n",
      "dtypes: float64(1), int64(5), object(18)\n",
      "memory usage: 1.3+ MB\n"
     ]
    }
   ],
   "source": [
    "# Information on Telco Data\n",
    "df.info()"
   ]
  },
  {
   "cell_type": "code",
   "execution_count": 4,
   "id": "cba23c79",
   "metadata": {},
   "outputs": [],
   "source": [
    " # Drop duplicate columns\n",
    "df.drop(columns=['payment_type_id', 'internet_service_type_id',\n",
    "            'contract_type_id', 'customer_id'], inplace=True)\n"
   ]
  },
  {
   "cell_type": "code",
   "execution_count": 5,
   "id": "4f8ac9a2",
   "metadata": {},
   "outputs": [
    {
     "data": {
      "text/plain": [
       "(7043, 20)"
      ]
     },
     "execution_count": 5,
     "metadata": {},
     "output_type": "execute_result"
    }
   ],
   "source": [
    "df.shape"
   ]
  },
  {
   "cell_type": "code",
   "execution_count": 6,
   "id": "4be9182a",
   "metadata": {},
   "outputs": [],
   "source": [
    " # Drop null values stored as whitespace\n",
    "df['total_charges'] = df['total_charges'].str.strip()\n",
    "df = df[df.total_charges != '']"
   ]
  },
  {
   "cell_type": "code",
   "execution_count": 7,
   "id": "5b112cf0",
   "metadata": {},
   "outputs": [
    {
     "data": {
      "text/plain": [
       "(7032, 20)"
      ]
     },
     "execution_count": 7,
     "metadata": {},
     "output_type": "execute_result"
    }
   ],
   "source": [
    "df.shape"
   ]
  },
  {
   "cell_type": "code",
   "execution_count": 8,
   "id": "db7cd0e1",
   "metadata": {},
   "outputs": [],
   "source": [
    "# Convert to correct datatype\n",
    "df['total_charges'] = df.total_charges.astype(float)"
   ]
  },
  {
   "cell_type": "code",
   "execution_count": 9,
   "id": "47586086",
   "metadata": {},
   "outputs": [],
   "source": [
    " # Convert binary categorical variables to numeric\n",
    "df['gender_encoded'] = df.gender.map({'Female': 1, 'Male': 0})\n",
    "df['partner_encoded'] = df.partner.map({'Yes': 1, 'No': 0})\n",
    "df['dependents_encoded'] = df.dependents.map({'Yes': 1, 'No': 0})\n",
    "df['phone_service_encoded'] = df.phone_service.map({'Yes': 1, 'No': 0})\n",
    "df['paperless_billing_encoded'] = df.paperless_billing.map(\n",
    "        {'Yes': 1, 'No': 0})\n",
    "df['churn_encoded'] = df.churn.map({'Yes': 1, 'No': 0})"
   ]
  },
  {
   "cell_type": "code",
   "execution_count": 10,
   "id": "dd5e1f13",
   "metadata": {},
   "outputs": [],
   "source": [
    "  # Get dummies for non-binary categorical variables\n",
    "dummy_df = pd.get_dummies(df[['multiple_lines',\n",
    "                              'online_security',\n",
    "                                  'online_backup',\n",
    "                                  'device_protection',\n",
    "                                  'tech_support',\n",
    "                                  'streaming_tv',\n",
    "                                  'streaming_movies',\n",
    "                                  'contract_type',\n",
    "                                  'internet_service_type',\n",
    "                                  'payment_type']], dummy_na=False,\n",
    "                              drop_first=True)"
   ]
  },
  {
   "cell_type": "code",
   "execution_count": 11,
   "id": "378adf00",
   "metadata": {},
   "outputs": [],
   "source": [
    "# Concatenate dummy dataframe to original\n",
    "df = pd.concat([df, dummy_df], axis=1)"
   ]
  },
  {
   "cell_type": "code",
   "execution_count": 12,
   "id": "a1127663",
   "metadata": {},
   "outputs": [
    {
     "name": "stdout",
     "output_type": "stream",
     "text": [
      "<class 'pandas.core.frame.DataFrame'>\n",
      "Int64Index: 7032 entries, 0 to 7042\n",
      "Data columns (total 47 columns):\n",
      " #   Column                                 Non-Null Count  Dtype  \n",
      "---  ------                                 --------------  -----  \n",
      " 0   gender                                 7032 non-null   object \n",
      " 1   senior_citizen                         7032 non-null   int64  \n",
      " 2   partner                                7032 non-null   object \n",
      " 3   dependents                             7032 non-null   object \n",
      " 4   tenure                                 7032 non-null   int64  \n",
      " 5   phone_service                          7032 non-null   object \n",
      " 6   multiple_lines                         7032 non-null   object \n",
      " 7   online_security                        7032 non-null   object \n",
      " 8   online_backup                          7032 non-null   object \n",
      " 9   device_protection                      7032 non-null   object \n",
      " 10  tech_support                           7032 non-null   object \n",
      " 11  streaming_tv                           7032 non-null   object \n",
      " 12  streaming_movies                       7032 non-null   object \n",
      " 13  paperless_billing                      7032 non-null   object \n",
      " 14  monthly_charges                        7032 non-null   float64\n",
      " 15  total_charges                          7032 non-null   float64\n",
      " 16  churn                                  7032 non-null   object \n",
      " 17  contract_type                          7032 non-null   object \n",
      " 18  internet_service_type                  7032 non-null   object \n",
      " 19  payment_type                           7032 non-null   object \n",
      " 20  gender_encoded                         7032 non-null   int64  \n",
      " 21  partner_encoded                        7032 non-null   int64  \n",
      " 22  dependents_encoded                     7032 non-null   int64  \n",
      " 23  phone_service_encoded                  7032 non-null   int64  \n",
      " 24  paperless_billing_encoded              7032 non-null   int64  \n",
      " 25  churn_encoded                          7032 non-null   int64  \n",
      " 26  multiple_lines_No phone service        7032 non-null   uint8  \n",
      " 27  multiple_lines_Yes                     7032 non-null   uint8  \n",
      " 28  online_security_No internet service    7032 non-null   uint8  \n",
      " 29  online_security_Yes                    7032 non-null   uint8  \n",
      " 30  online_backup_No internet service      7032 non-null   uint8  \n",
      " 31  online_backup_Yes                      7032 non-null   uint8  \n",
      " 32  device_protection_No internet service  7032 non-null   uint8  \n",
      " 33  device_protection_Yes                  7032 non-null   uint8  \n",
      " 34  tech_support_No internet service       7032 non-null   uint8  \n",
      " 35  tech_support_Yes                       7032 non-null   uint8  \n",
      " 36  streaming_tv_No internet service       7032 non-null   uint8  \n",
      " 37  streaming_tv_Yes                       7032 non-null   uint8  \n",
      " 38  streaming_movies_No internet service   7032 non-null   uint8  \n",
      " 39  streaming_movies_Yes                   7032 non-null   uint8  \n",
      " 40  contract_type_One year                 7032 non-null   uint8  \n",
      " 41  contract_type_Two year                 7032 non-null   uint8  \n",
      " 42  internet_service_type_Fiber optic      7032 non-null   uint8  \n",
      " 43  internet_service_type_None             7032 non-null   uint8  \n",
      " 44  payment_type_Credit card (automatic)   7032 non-null   uint8  \n",
      " 45  payment_type_Electronic check          7032 non-null   uint8  \n",
      " 46  payment_type_Mailed check              7032 non-null   uint8  \n",
      "dtypes: float64(2), int64(8), object(16), uint8(21)\n",
      "memory usage: 1.6+ MB\n"
     ]
    }
   ],
   "source": [
    "# Let's check information to make sure that changes applied has acted\n",
    "df.info()"
   ]
  },
  {
   "cell_type": "markdown",
   "id": "bbbb8387",
   "metadata": {},
   "source": [
    "### Splitting Data\n",
    "Now we have cleaned the data, now we can split the data into train, validate and test dataframes."
   ]
  },
  {
   "cell_type": "code",
   "execution_count": 13,
   "id": "a746af40",
   "metadata": {},
   "outputs": [],
   "source": [
    "def split_telco_data(df):\n",
    "    '''\n",
    "    This function performs split on telco data, stratify churn.\n",
    "    Returns train, validate, and test dfs.\n",
    "    '''\n",
    "    train_validate, test = train_test_split(df, test_size=.2,\n",
    "                                            random_state=123,\n",
    "                                            stratify=df.churn)\n",
    "    train, validate = train_test_split(train_validate, test_size=.2,\n",
    "                                       random_state=123,\n",
    "                                       stratify=train_validate.churn)\n",
    "    return train, validate, test"
   ]
  },
  {
   "cell_type": "code",
   "execution_count": 14,
   "id": "c71047b7",
   "metadata": {},
   "outputs": [],
   "source": [
    "# split the data\n",
    "train, validate, test = split_telco_data(df)"
   ]
  },
  {
   "cell_type": "code",
   "execution_count": 15,
   "id": "99959fc0",
   "metadata": {},
   "outputs": [
    {
     "data": {
      "text/plain": [
       "(4500, 47)"
      ]
     },
     "execution_count": 15,
     "metadata": {},
     "output_type": "execute_result"
    }
   ],
   "source": [
    "train.shape"
   ]
  },
  {
   "cell_type": "code",
   "execution_count": 16,
   "id": "6a8efcaf",
   "metadata": {},
   "outputs": [
    {
     "data": {
      "text/plain": [
       "(1125, 47)"
      ]
     },
     "execution_count": 16,
     "metadata": {},
     "output_type": "execute_result"
    }
   ],
   "source": [
    "validate.shape"
   ]
  },
  {
   "cell_type": "code",
   "execution_count": 17,
   "id": "e510efc8",
   "metadata": {},
   "outputs": [
    {
     "data": {
      "text/plain": [
       "(1407, 47)"
      ]
     },
     "execution_count": 17,
     "metadata": {},
     "output_type": "execute_result"
    }
   ],
   "source": [
    "test.shape"
   ]
  },
  {
   "cell_type": "code",
   "execution_count": 18,
   "id": "b693e71c",
   "metadata": {},
   "outputs": [],
   "source": [
    "# Lets define a single function that will give us all these, while calling it.\n",
    "def prep_telco_data(df):\n",
    "    # Drop duplicate columns\n",
    "    df.drop(columns=['payment_type_id', 'internet_service_type_id',\n",
    "            'contract_type_id', 'customer_id'], inplace=True)\n",
    "\n",
    "    # Drop null values stored as whitespace\n",
    "    df['total_charges'] = df['total_charges'].str.strip()\n",
    "    df = df[df.total_charges != '']\n",
    "\n",
    "    # Convert to correct datatype\n",
    "    df['total_charges'] = df.total_charges.astype(float)\n",
    "\n",
    "    # Convert binary categorical variables to numeric\n",
    "    df['gender_encoded'] = df.gender.map({'Female': 1, 'Male': 0})\n",
    "    df['partner_encoded'] = df.partner.map({'Yes': 1, 'No': 0})\n",
    "    df['dependents_encoded'] = df.dependents.map({'Yes': 1, 'No': 0})\n",
    "    df['phone_service_encoded'] = df.phone_service.map({'Yes': 1, 'No': 0})\n",
    "    df['paperless_billing_encoded'] = df.paperless_billing.map(\n",
    "        {'Yes': 1, 'No': 0})\n",
    "    df['churn_encoded'] = df.churn.map({'Yes': 1, 'No': 0})\n",
    "\n",
    "    # Get dummies for non-binary categorical variables\n",
    "    dummy_df = pd.get_dummies(df[['multiple_lines',\n",
    "                              'online_security',\n",
    "                                  'online_backup',\n",
    "                                  'device_protection',\n",
    "                                  'tech_support',\n",
    "                                  'streaming_tv',\n",
    "                                  'streaming_movies',\n",
    "                                  'contract_type',\n",
    "                                  'internet_service_type',\n",
    "                                  'payment_type']], dummy_na=False,\n",
    "                              drop_first=True)\n",
    "\n",
    "    # Concatenate dummy dataframe to original\n",
    "    df = pd.concat([df, dummy_df], axis=1)\n",
    "\n",
    "    # split the data\n",
    "    train, validate, test = split_telco_data(df)\n",
    "\n",
    "    return train, validate, test"
   ]
  },
  {
   "cell_type": "code",
   "execution_count": 19,
   "id": "d86c0f70",
   "metadata": {},
   "outputs": [
    {
     "data": {
      "text/html": [
       "<div>\n",
       "<style scoped>\n",
       "    .dataframe tbody tr th:only-of-type {\n",
       "        vertical-align: middle;\n",
       "    }\n",
       "\n",
       "    .dataframe tbody tr th {\n",
       "        vertical-align: top;\n",
       "    }\n",
       "\n",
       "    .dataframe thead th {\n",
       "        text-align: right;\n",
       "    }\n",
       "</style>\n",
       "<table border=\"1\" class=\"dataframe\">\n",
       "  <thead>\n",
       "    <tr style=\"text-align: right;\">\n",
       "      <th></th>\n",
       "      <th>gender</th>\n",
       "      <th>senior_citizen</th>\n",
       "      <th>partner</th>\n",
       "      <th>dependents</th>\n",
       "      <th>tenure</th>\n",
       "      <th>phone_service</th>\n",
       "      <th>multiple_lines</th>\n",
       "      <th>online_security</th>\n",
       "      <th>online_backup</th>\n",
       "      <th>device_protection</th>\n",
       "      <th>...</th>\n",
       "      <th>streaming_tv_Yes</th>\n",
       "      <th>streaming_movies_No internet service</th>\n",
       "      <th>streaming_movies_Yes</th>\n",
       "      <th>contract_type_One year</th>\n",
       "      <th>contract_type_Two year</th>\n",
       "      <th>internet_service_type_Fiber optic</th>\n",
       "      <th>internet_service_type_None</th>\n",
       "      <th>payment_type_Credit card (automatic)</th>\n",
       "      <th>payment_type_Electronic check</th>\n",
       "      <th>payment_type_Mailed check</th>\n",
       "    </tr>\n",
       "  </thead>\n",
       "  <tbody>\n",
       "    <tr>\n",
       "      <th>0</th>\n",
       "      <td>Female</td>\n",
       "      <td>0</td>\n",
       "      <td>Yes</td>\n",
       "      <td>Yes</td>\n",
       "      <td>65</td>\n",
       "      <td>Yes</td>\n",
       "      <td>Yes</td>\n",
       "      <td>Yes</td>\n",
       "      <td>Yes</td>\n",
       "      <td>Yes</td>\n",
       "      <td>...</td>\n",
       "      <td>1</td>\n",
       "      <td>0</td>\n",
       "      <td>1</td>\n",
       "      <td>0</td>\n",
       "      <td>1</td>\n",
       "      <td>0</td>\n",
       "      <td>0</td>\n",
       "      <td>0</td>\n",
       "      <td>0</td>\n",
       "      <td>1</td>\n",
       "    </tr>\n",
       "    <tr>\n",
       "      <th>1</th>\n",
       "      <td>Male</td>\n",
       "      <td>0</td>\n",
       "      <td>No</td>\n",
       "      <td>No</td>\n",
       "      <td>54</td>\n",
       "      <td>No</td>\n",
       "      <td>No phone service</td>\n",
       "      <td>Yes</td>\n",
       "      <td>No</td>\n",
       "      <td>No</td>\n",
       "      <td>...</td>\n",
       "      <td>1</td>\n",
       "      <td>0</td>\n",
       "      <td>0</td>\n",
       "      <td>0</td>\n",
       "      <td>1</td>\n",
       "      <td>0</td>\n",
       "      <td>0</td>\n",
       "      <td>1</td>\n",
       "      <td>0</td>\n",
       "      <td>0</td>\n",
       "    </tr>\n",
       "    <tr>\n",
       "      <th>2</th>\n",
       "      <td>Female</td>\n",
       "      <td>0</td>\n",
       "      <td>No</td>\n",
       "      <td>No</td>\n",
       "      <td>56</td>\n",
       "      <td>No</td>\n",
       "      <td>No phone service</td>\n",
       "      <td>Yes</td>\n",
       "      <td>Yes</td>\n",
       "      <td>Yes</td>\n",
       "      <td>...</td>\n",
       "      <td>0</td>\n",
       "      <td>0</td>\n",
       "      <td>0</td>\n",
       "      <td>0</td>\n",
       "      <td>1</td>\n",
       "      <td>0</td>\n",
       "      <td>0</td>\n",
       "      <td>0</td>\n",
       "      <td>0</td>\n",
       "      <td>0</td>\n",
       "    </tr>\n",
       "    <tr>\n",
       "      <th>3</th>\n",
       "      <td>Male</td>\n",
       "      <td>0</td>\n",
       "      <td>Yes</td>\n",
       "      <td>Yes</td>\n",
       "      <td>20</td>\n",
       "      <td>No</td>\n",
       "      <td>No phone service</td>\n",
       "      <td>Yes</td>\n",
       "      <td>No</td>\n",
       "      <td>Yes</td>\n",
       "      <td>...</td>\n",
       "      <td>0</td>\n",
       "      <td>0</td>\n",
       "      <td>0</td>\n",
       "      <td>0</td>\n",
       "      <td>1</td>\n",
       "      <td>0</td>\n",
       "      <td>0</td>\n",
       "      <td>1</td>\n",
       "      <td>0</td>\n",
       "      <td>0</td>\n",
       "    </tr>\n",
       "    <tr>\n",
       "      <th>4</th>\n",
       "      <td>Male</td>\n",
       "      <td>0</td>\n",
       "      <td>Yes</td>\n",
       "      <td>No</td>\n",
       "      <td>72</td>\n",
       "      <td>Yes</td>\n",
       "      <td>Yes</td>\n",
       "      <td>No</td>\n",
       "      <td>Yes</td>\n",
       "      <td>Yes</td>\n",
       "      <td>...</td>\n",
       "      <td>1</td>\n",
       "      <td>0</td>\n",
       "      <td>1</td>\n",
       "      <td>0</td>\n",
       "      <td>1</td>\n",
       "      <td>0</td>\n",
       "      <td>0</td>\n",
       "      <td>0</td>\n",
       "      <td>0</td>\n",
       "      <td>0</td>\n",
       "    </tr>\n",
       "    <tr>\n",
       "      <th>...</th>\n",
       "      <td>...</td>\n",
       "      <td>...</td>\n",
       "      <td>...</td>\n",
       "      <td>...</td>\n",
       "      <td>...</td>\n",
       "      <td>...</td>\n",
       "      <td>...</td>\n",
       "      <td>...</td>\n",
       "      <td>...</td>\n",
       "      <td>...</td>\n",
       "      <td>...</td>\n",
       "      <td>...</td>\n",
       "      <td>...</td>\n",
       "      <td>...</td>\n",
       "      <td>...</td>\n",
       "      <td>...</td>\n",
       "      <td>...</td>\n",
       "      <td>...</td>\n",
       "      <td>...</td>\n",
       "      <td>...</td>\n",
       "      <td>...</td>\n",
       "    </tr>\n",
       "    <tr>\n",
       "      <th>7038</th>\n",
       "      <td>Female</td>\n",
       "      <td>0</td>\n",
       "      <td>Yes</td>\n",
       "      <td>Yes</td>\n",
       "      <td>1</td>\n",
       "      <td>Yes</td>\n",
       "      <td>No</td>\n",
       "      <td>No internet service</td>\n",
       "      <td>No internet service</td>\n",
       "      <td>No internet service</td>\n",
       "      <td>...</td>\n",
       "      <td>0</td>\n",
       "      <td>1</td>\n",
       "      <td>0</td>\n",
       "      <td>0</td>\n",
       "      <td>0</td>\n",
       "      <td>0</td>\n",
       "      <td>1</td>\n",
       "      <td>0</td>\n",
       "      <td>0</td>\n",
       "      <td>1</td>\n",
       "    </tr>\n",
       "    <tr>\n",
       "      <th>7039</th>\n",
       "      <td>Female</td>\n",
       "      <td>0</td>\n",
       "      <td>No</td>\n",
       "      <td>No</td>\n",
       "      <td>19</td>\n",
       "      <td>Yes</td>\n",
       "      <td>No</td>\n",
       "      <td>No internet service</td>\n",
       "      <td>No internet service</td>\n",
       "      <td>No internet service</td>\n",
       "      <td>...</td>\n",
       "      <td>0</td>\n",
       "      <td>1</td>\n",
       "      <td>0</td>\n",
       "      <td>0</td>\n",
       "      <td>0</td>\n",
       "      <td>0</td>\n",
       "      <td>1</td>\n",
       "      <td>0</td>\n",
       "      <td>0</td>\n",
       "      <td>1</td>\n",
       "    </tr>\n",
       "    <tr>\n",
       "      <th>7040</th>\n",
       "      <td>Female</td>\n",
       "      <td>0</td>\n",
       "      <td>No</td>\n",
       "      <td>No</td>\n",
       "      <td>6</td>\n",
       "      <td>Yes</td>\n",
       "      <td>No</td>\n",
       "      <td>No internet service</td>\n",
       "      <td>No internet service</td>\n",
       "      <td>No internet service</td>\n",
       "      <td>...</td>\n",
       "      <td>0</td>\n",
       "      <td>1</td>\n",
       "      <td>0</td>\n",
       "      <td>0</td>\n",
       "      <td>0</td>\n",
       "      <td>0</td>\n",
       "      <td>1</td>\n",
       "      <td>1</td>\n",
       "      <td>0</td>\n",
       "      <td>0</td>\n",
       "    </tr>\n",
       "    <tr>\n",
       "      <th>7041</th>\n",
       "      <td>Male</td>\n",
       "      <td>0</td>\n",
       "      <td>No</td>\n",
       "      <td>No</td>\n",
       "      <td>1</td>\n",
       "      <td>Yes</td>\n",
       "      <td>No</td>\n",
       "      <td>No internet service</td>\n",
       "      <td>No internet service</td>\n",
       "      <td>No internet service</td>\n",
       "      <td>...</td>\n",
       "      <td>0</td>\n",
       "      <td>1</td>\n",
       "      <td>0</td>\n",
       "      <td>0</td>\n",
       "      <td>0</td>\n",
       "      <td>0</td>\n",
       "      <td>1</td>\n",
       "      <td>0</td>\n",
       "      <td>0</td>\n",
       "      <td>1</td>\n",
       "    </tr>\n",
       "    <tr>\n",
       "      <th>7042</th>\n",
       "      <td>Female</td>\n",
       "      <td>0</td>\n",
       "      <td>No</td>\n",
       "      <td>No</td>\n",
       "      <td>4</td>\n",
       "      <td>Yes</td>\n",
       "      <td>No</td>\n",
       "      <td>No internet service</td>\n",
       "      <td>No internet service</td>\n",
       "      <td>No internet service</td>\n",
       "      <td>...</td>\n",
       "      <td>0</td>\n",
       "      <td>1</td>\n",
       "      <td>0</td>\n",
       "      <td>0</td>\n",
       "      <td>0</td>\n",
       "      <td>0</td>\n",
       "      <td>1</td>\n",
       "      <td>0</td>\n",
       "      <td>0</td>\n",
       "      <td>0</td>\n",
       "    </tr>\n",
       "  </tbody>\n",
       "</table>\n",
       "<p>7032 rows × 47 columns</p>\n",
       "</div>"
      ],
      "text/plain": [
       "      gender  senior_citizen partner dependents  tenure phone_service  \\\n",
       "0     Female               0     Yes        Yes      65           Yes   \n",
       "1       Male               0      No         No      54            No   \n",
       "2     Female               0      No         No      56            No   \n",
       "3       Male               0     Yes        Yes      20            No   \n",
       "4       Male               0     Yes         No      72           Yes   \n",
       "...      ...             ...     ...        ...     ...           ...   \n",
       "7038  Female               0     Yes        Yes       1           Yes   \n",
       "7039  Female               0      No         No      19           Yes   \n",
       "7040  Female               0      No         No       6           Yes   \n",
       "7041    Male               0      No         No       1           Yes   \n",
       "7042  Female               0      No         No       4           Yes   \n",
       "\n",
       "        multiple_lines      online_security        online_backup  \\\n",
       "0                  Yes                  Yes                  Yes   \n",
       "1     No phone service                  Yes                   No   \n",
       "2     No phone service                  Yes                  Yes   \n",
       "3     No phone service                  Yes                   No   \n",
       "4                  Yes                   No                  Yes   \n",
       "...                ...                  ...                  ...   \n",
       "7038                No  No internet service  No internet service   \n",
       "7039                No  No internet service  No internet service   \n",
       "7040                No  No internet service  No internet service   \n",
       "7041                No  No internet service  No internet service   \n",
       "7042                No  No internet service  No internet service   \n",
       "\n",
       "        device_protection  ... streaming_tv_Yes  \\\n",
       "0                     Yes  ...                1   \n",
       "1                      No  ...                1   \n",
       "2                     Yes  ...                0   \n",
       "3                     Yes  ...                0   \n",
       "4                     Yes  ...                1   \n",
       "...                   ...  ...              ...   \n",
       "7038  No internet service  ...                0   \n",
       "7039  No internet service  ...                0   \n",
       "7040  No internet service  ...                0   \n",
       "7041  No internet service  ...                0   \n",
       "7042  No internet service  ...                0   \n",
       "\n",
       "     streaming_movies_No internet service streaming_movies_Yes  \\\n",
       "0                                       0                    1   \n",
       "1                                       0                    0   \n",
       "2                                       0                    0   \n",
       "3                                       0                    0   \n",
       "4                                       0                    1   \n",
       "...                                   ...                  ...   \n",
       "7038                                    1                    0   \n",
       "7039                                    1                    0   \n",
       "7040                                    1                    0   \n",
       "7041                                    1                    0   \n",
       "7042                                    1                    0   \n",
       "\n",
       "     contract_type_One year  contract_type_Two year  \\\n",
       "0                         0                       1   \n",
       "1                         0                       1   \n",
       "2                         0                       1   \n",
       "3                         0                       1   \n",
       "4                         0                       1   \n",
       "...                     ...                     ...   \n",
       "7038                      0                       0   \n",
       "7039                      0                       0   \n",
       "7040                      0                       0   \n",
       "7041                      0                       0   \n",
       "7042                      0                       0   \n",
       "\n",
       "      internet_service_type_Fiber optic internet_service_type_None  \\\n",
       "0                                     0                          0   \n",
       "1                                     0                          0   \n",
       "2                                     0                          0   \n",
       "3                                     0                          0   \n",
       "4                                     0                          0   \n",
       "...                                 ...                        ...   \n",
       "7038                                  0                          1   \n",
       "7039                                  0                          1   \n",
       "7040                                  0                          1   \n",
       "7041                                  0                          1   \n",
       "7042                                  0                          1   \n",
       "\n",
       "     payment_type_Credit card (automatic) payment_type_Electronic check  \\\n",
       "0                                       0                             0   \n",
       "1                                       1                             0   \n",
       "2                                       0                             0   \n",
       "3                                       1                             0   \n",
       "4                                       0                             0   \n",
       "...                                   ...                           ...   \n",
       "7038                                    0                             0   \n",
       "7039                                    0                             0   \n",
       "7040                                    1                             0   \n",
       "7041                                    0                             0   \n",
       "7042                                    0                             0   \n",
       "\n",
       "     payment_type_Mailed check  \n",
       "0                            1  \n",
       "1                            0  \n",
       "2                            0  \n",
       "3                            0  \n",
       "4                            0  \n",
       "...                        ...  \n",
       "7038                         1  \n",
       "7039                         1  \n",
       "7040                         0  \n",
       "7041                         1  \n",
       "7042                         0  \n",
       "\n",
       "[7032 rows x 47 columns]"
      ]
     },
     "execution_count": 19,
     "metadata": {},
     "output_type": "execute_result"
    }
   ],
   "source": [
    "df"
   ]
  },
  {
   "cell_type": "markdown",
   "id": "b5bef63b",
   "metadata": {},
   "source": [
    "### Exploratory Data Analysis"
   ]
  },
  {
   "cell_type": "markdown",
   "id": "a6248c4e",
   "metadata": {},
   "source": [
    "- Questions ???\n",
    "- Is gender the driving factor for churn?\n",
    "- Is internet service type driving factor for churn?\n",
    "- Is monthly charges driving factor for churn?\n",
    "- Is payment type driving factor for churn?\n",
    "- Is senior citizen driver for churn?"
   ]
  },
  {
   "cell_type": "code",
   "execution_count": 20,
   "id": "d85c9e2b",
   "metadata": {},
   "outputs": [],
   "source": [
    "# Splitting data to know whether they churn or not\n",
    "\n",
    "churn = df[df['churn_encoded'] == 1]\n",
    "no_churn = df[df['churn_encoded'] == 0]"
   ]
  },
  {
   "cell_type": "code",
   "execution_count": 21,
   "id": "81ec47b0",
   "metadata": {},
   "outputs": [
    {
     "name": "stdout",
     "output_type": "stream",
     "text": [
      "(1869, 47)\n",
      "(5163, 47)\n"
     ]
    }
   ],
   "source": [
    "# Counts of churn and no churn customers\n",
    "print(churn.shape)\n",
    "print(no_churn.shape)"
   ]
  },
  {
   "cell_type": "code",
   "execution_count": 22,
   "id": "40beb43e",
   "metadata": {},
   "outputs": [
    {
     "data": {
      "text/plain": [
       "0    3304\n",
       "1    1196\n",
       "Name: churn_encoded, dtype: int64"
      ]
     },
     "execution_count": 22,
     "metadata": {},
     "output_type": "execute_result"
    }
   ],
   "source": [
    "# Counts of churn and no churn customers from train data frames\n",
    "train.churn_encoded.value_counts()"
   ]
  },
  {
   "cell_type": "code",
   "execution_count": 23,
   "id": "b1e9ae59",
   "metadata": {},
   "outputs": [
    {
     "data": {
      "text/plain": [
       "<AxesSubplot:xlabel='churn_encoded', ylabel='count'>"
      ]
     },
     "execution_count": 23,
     "metadata": {},
     "output_type": "execute_result"
    },
    {
     "data": {
      "image/png": "[encoded data removed]",
      "text/plain": [
       "<Figure size 432x288 with 1 Axes>"
      ]
     },
     "metadata": {
      "needs_background": "light"
     },
     "output_type": "display_data"
    }
   ],
   "source": [
    "# Visualize churn from train data\n",
    "sns.countplot(train['churn_encoded'])"
   ]
  },
  {
   "cell_type": "code",
   "execution_count": 24,
   "id": "5a665778",
   "metadata": {},
   "outputs": [
    {
     "name": "stdout",
     "output_type": "stream",
     "text": [
      "3304\n",
      "1196\n"
     ]
    }
   ],
   "source": [
    "# What percentage of customers churn from train data\n",
    "cust_no_churn = train[train.churn_encoded == 0].shape[0]\n",
    "cust_churn = train[train.churn_encoded == 1].shape[0]\n",
    "\n",
    "print(cust_no_churn)\n",
    "print(cust_churn)"
   ]
  },
  {
   "cell_type": "code",
   "execution_count": 25,
   "id": "7569671c",
   "metadata": {},
   "outputs": [
    {
     "name": "stdout",
     "output_type": "stream",
     "text": [
      "Percentage of customer churned : 26.58 % of train customers\n",
      "Percentage of customer not churned : 73.42 % of train customers\n"
     ]
    }
   ],
   "source": [
    "print(f'Percentage of customer churned : {round((cust_churn/(cust_churn + cust_no_churn)) *100, 2)} % of train customers')\n",
    "print(f'Percentage of customer not churned : {round((cust_no_churn/(cust_churn + cust_no_churn)) *100, 2)} % of train customers')"
   ]
  },
  {
   "cell_type": "markdown",
   "id": "cadb0d51",
   "metadata": {},
   "source": [
    "### Based on this we can tell that when we build a model, the model should have accuracy of telling whether a given customer will not churn by more than 73.42% accuracy"
   ]
  },
  {
   "cell_type": "markdown",
   "id": "9093b060",
   "metadata": {},
   "source": [
    "### 1. Is gender the driving factor for churn?"
   ]
  },
  {
   "cell_type": "code",
   "execution_count": 26,
   "id": "f9a9e604",
   "metadata": {},
   "outputs": [
    {
     "data": {
      "text/plain": [
       "<AxesSubplot:xlabel='gender', ylabel='count'>"
      ]
     },
     "execution_count": 26,
     "metadata": {},
     "output_type": "execute_result"
    },
    {
     "data": {
      "image/png": "[encoded data removed]",
      "text/plain": [
       "<Figure size 432x288 with 1 Axes>"
      ]
     },
     "metadata": {
      "needs_background": "light"
     },
     "output_type": "display_data"
    }
   ],
   "source": [
    "# Visualize the churn count for males and females\n",
    "sns.countplot(x = 'gender', hue = 'churn', data = train)"
   ]
  },
  {
   "cell_type": "markdown",
   "id": "e532f84f",
   "metadata": {},
   "source": [
    " Based on this visualization, we can tell that gender has nothing to do with churn rate."
   ]
  },
  {
   "cell_type": "markdown",
   "id": "d7a4a116",
   "metadata": {},
   "source": [
    "### 2. Is internet service type driving factor for churn?"
   ]
  },
  {
   "cell_type": "code",
   "execution_count": 27,
   "id": "7481bff2",
   "metadata": {},
   "outputs": [
    {
     "data": {
      "text/plain": [
       "<AxesSubplot:xlabel='internet_service_type', ylabel='count'>"
      ]
     },
     "execution_count": 27,
     "metadata": {},
     "output_type": "execute_result"
    },
    {
     "data": {
      "image/png": "[encoded data removed]",
      "text/plain": [
       "<Figure size 432x288 with 1 Axes>"
      ]
     },
     "metadata": {
      "needs_background": "light"
     },
     "output_type": "display_data"
    }
   ],
   "source": [
    "sns.countplot(x= 'internet_service_type', hue = 'churn', data = train)"
   ]
  },
  {
   "cell_type": "markdown",
   "id": "a29bd1e0",
   "metadata": {},
   "source": [
    "### Based on this visualization, we can tell that customers with Fiber Optic internet service has highest churn rate. "
   ]
  },
  {
   "cell_type": "markdown",
   "id": "682e7c37",
   "metadata": {},
   "source": [
    "### 3. Is monthly charges driving factor for churn?"
   ]
  },
  {
   "cell_type": "code",
   "execution_count": 28,
   "id": "fe13f264",
   "metadata": {},
   "outputs": [
    {
     "data": {
      "text/plain": [
       "array([<AxesSubplot:title={'center':'monthly_charges'}>,\n",
       "       <AxesSubplot:title={'center':'tenure'}>], dtype=object)"
      ]
     },
     "execution_count": 28,
     "metadata": {},
     "output_type": "execute_result"
    },
    {
     "data": {
      "image/png": "[encoded data removed]",
      "text/plain": [
       "<Figure size 2016x576 with 2 Axes>"
      ]
     },
     "metadata": {
      "needs_background": "light"
     },
     "output_type": "display_data"
    }
   ],
   "source": [
    "numerical_features = ['monthly_charges', 'tenure']\n",
    "fig, ax = plt.subplots(1, 2, figsize = (28, 8))\n",
    "train[train.churn == 'No'][numerical_features].hist(bins = 20, color = 'blue', alpha = 0.5, ax = ax)\n",
    "train[train.churn == 'Yes'][numerical_features].hist(bins = 20, color = 'orange', alpha = 0.5, ax = ax)"
   ]
  },
  {
   "cell_type": "markdown",
   "id": "a752c495",
   "metadata": {},
   "source": [
    "### Based on this visualization, we can tell that churn rate is high for customers having monthly charges of USD. 70 to USD. 100."
   ]
  },
  {
   "cell_type": "markdown",
   "id": "a2c00b93",
   "metadata": {},
   "source": [
    "### 4. Is payment type driving factor for churn?"
   ]
  },
  {
   "cell_type": "code",
   "execution_count": 29,
   "id": "bdb3c917",
   "metadata": {},
   "outputs": [
    {
     "data": {
      "text/plain": [
       "<AxesSubplot:xlabel='payment_type', ylabel='count'>"
      ]
     },
     "execution_count": 29,
     "metadata": {},
     "output_type": "execute_result"
    },
    {
     "data": {
      "image/png": "[encoded data removed]",
      "text/plain": [
       "<Figure size 432x288 with 1 Axes>"
      ]
     },
     "metadata": {
      "needs_background": "light"
     },
     "output_type": "display_data"
    }
   ],
   "source": [
    "sns.countplot(x= 'payment_type', hue = 'churn', data = train)"
   ]
  },
  {
   "cell_type": "markdown",
   "id": "2f1b2467",
   "metadata": {},
   "source": [
    "### Based on this diagram, we can say that customers with Electronic Check as payment as more churn date."
   ]
  },
  {
   "cell_type": "markdown",
   "id": "f6fe87cd",
   "metadata": {},
   "source": [
    "### 5. Is senior citizen driver for churn?"
   ]
  },
  {
   "cell_type": "code",
   "execution_count": 30,
   "id": "12f869d0",
   "metadata": {},
   "outputs": [
    {
     "data": {
      "text/plain": [
       "<AxesSubplot:xlabel='senior_citizen', ylabel='count'>"
      ]
     },
     "execution_count": 30,
     "metadata": {},
     "output_type": "execute_result"
    },
    {
     "data": {
      "image/png": "[encoded data removed]",
      "text/plain": [
       "<Figure size 432x288 with 1 Axes>"
      ]
     },
     "metadata": {
      "needs_background": "light"
     },
     "output_type": "display_data"
    }
   ],
   "source": [
    "sns.countplot(x = 'senior_citizen', hue = 'churn', data = train)"
   ]
  },
  {
   "cell_type": "markdown",
   "id": "e5b09cf5",
   "metadata": {},
   "source": [
    "### Based on the diagram, we can tell that more portion of senior citizen churn than non senior citizen."
   ]
  },
  {
   "cell_type": "markdown",
   "id": "ffaafc0f",
   "metadata": {},
   "source": [
    "# Statistical Tests"
   ]
  },
  {
   "cell_type": "markdown",
   "id": "95b406f2",
   "metadata": {},
   "source": [
    "### 1. Is gender the driving factor for churn?"
   ]
  },
  {
   "cell_type": "markdown",
   "id": "66f66551",
   "metadata": {},
   "source": [
    "H0: churn and gender independent\n",
    "\n",
    "H1: churn and gender not independednt\n",
    "\n",
    "Create Observation Table\n",
    "\n",
    "Use Chi^2 to determine whether there is a statistically significant difference between the expected frequencies and the observed frequencies in one or more categories of a contingency table."
   ]
  },
  {
   "cell_type": "code",
   "execution_count": 31,
   "id": "c2a09f5d",
   "metadata": {},
   "outputs": [
    {
     "data": {
      "text/html": [
       "<div>\n",
       "<style scoped>\n",
       "    .dataframe tbody tr th:only-of-type {\n",
       "        vertical-align: middle;\n",
       "    }\n",
       "\n",
       "    .dataframe tbody tr th {\n",
       "        vertical-align: top;\n",
       "    }\n",
       "\n",
       "    .dataframe thead th {\n",
       "        text-align: right;\n",
       "    }\n",
       "</style>\n",
       "<table border=\"1\" class=\"dataframe\">\n",
       "  <thead>\n",
       "    <tr style=\"text-align: right;\">\n",
       "      <th></th>\n",
       "      <th>Gender=1</th>\n",
       "      <th>Gender=0</th>\n",
       "    </tr>\n",
       "  </thead>\n",
       "  <tbody>\n",
       "    <tr>\n",
       "      <th>Churn</th>\n",
       "      <td>939</td>\n",
       "      <td>930</td>\n",
       "    </tr>\n",
       "    <tr>\n",
       "      <th>No Churn</th>\n",
       "      <td>2544</td>\n",
       "      <td>2619</td>\n",
       "    </tr>\n",
       "  </tbody>\n",
       "</table>\n",
       "</div>"
      ],
      "text/plain": [
       "          Gender=1  Gender=0\n",
       "Churn          939       930\n",
       "No Churn      2544      2619"
      ]
     },
     "execution_count": 31,
     "metadata": {},
     "output_type": "execute_result"
    }
   ],
   "source": [
    "# Make observation table\n",
    "\n",
    "index = ['Churn', 'No Churn']\n",
    "columns = ['Gender=1', 'Gender=0']\n",
    "\n",
    "gender_observed = pd.DataFrame([[churn.gender_encoded.value_counts()[1], churn.gender_encoded.value_counts()[0]], [no_churn.gender_encoded.value_counts()[1], no_churn.gender_encoded.value_counts()[0]]], index=index, columns=columns)\n",
    "gender_observed"
   ]
  },
  {
   "cell_type": "code",
   "execution_count": 32,
   "id": "17d0a6da",
   "metadata": {},
   "outputs": [
    {
     "name": "stdout",
     "output_type": "stream",
     "text": [
      "Observed\n",
      "\n",
      "[[ 939  930]\n",
      " [2544 2619]]\n",
      "---\n",
      "Expected\n",
      "\n",
      "[[ 925.72909556  943.27090444]\n",
      " [2557.27090444 2605.72909556]]\n",
      "---\n",
      "\n",
      "chi^2 = 0.4755\n",
      "p     = 0.4905\n",
      "We fail to reject the null hypothesis\n"
     ]
    }
   ],
   "source": [
    "gender_chi2, gender_p, gender_degf, gender_expected = stats.chi2_contingency(gender_observed)\n",
    "\n",
    "print('Observed\\n')\n",
    "print(gender_observed.values)\n",
    "print('---\\nExpected\\n')\n",
    "print(gender_expected)\n",
    "print('---\\n')\n",
    "print(f'chi^2 = {gender_chi2:.4f}')\n",
    "print(f'p     = {gender_p:.4f}')\n",
    "if gender_p < alpha:\n",
    "      print('We can reject the null hypothesis')\n",
    "else:\n",
    "    print('We fail to reject the null hypothesis')"
   ]
  },
  {
   "cell_type": "markdown",
   "id": "aaa44339",
   "metadata": {},
   "source": [
    "### 2. Is internet service type driving factor for churn?"
   ]
  },
  {
   "cell_type": "markdown",
   "id": "1d7d78b2",
   "metadata": {},
   "source": [
    "H0: Churn and fiber optic internet are independent\n",
    "\n",
    "H1: Churn and Fiber are dependent\n",
    "\n",
    "Create Observation Table\n",
    "\n",
    "Use Chi^2 to determine whether there is a statistically significant difference between the expected frequencies and the observed frequencies in one or more categories of a contingency table."
   ]
  },
  {
   "cell_type": "code",
   "execution_count": 33,
   "id": "49acece4",
   "metadata": {},
   "outputs": [
    {
     "data": {
      "text/html": [
       "<div>\n",
       "<style scoped>\n",
       "    .dataframe tbody tr th:only-of-type {\n",
       "        vertical-align: middle;\n",
       "    }\n",
       "\n",
       "    .dataframe tbody tr th {\n",
       "        vertical-align: top;\n",
       "    }\n",
       "\n",
       "    .dataframe thead th {\n",
       "        text-align: right;\n",
       "    }\n",
       "</style>\n",
       "<table border=\"1\" class=\"dataframe\">\n",
       "  <thead>\n",
       "    <tr style=\"text-align: right;\">\n",
       "      <th></th>\n",
       "      <th>Fiber=1</th>\n",
       "      <th>Fiber=0</th>\n",
       "    </tr>\n",
       "  </thead>\n",
       "  <tbody>\n",
       "    <tr>\n",
       "      <th>Churn</th>\n",
       "      <td>716</td>\n",
       "      <td>330</td>\n",
       "    </tr>\n",
       "    <tr>\n",
       "      <th>No Churn</th>\n",
       "      <td>982</td>\n",
       "      <td>1901</td>\n",
       "    </tr>\n",
       "  </tbody>\n",
       "</table>\n",
       "</div>"
      ],
      "text/plain": [
       "          Fiber=1  Fiber=0\n",
       "Churn         716      330\n",
       "No Churn      982     1901"
      ]
     },
     "execution_count": 33,
     "metadata": {},
     "output_type": "execute_result"
    }
   ],
   "source": [
    "# Make observation table\n",
    "\n",
    "index = ['Churn', 'No Churn']\n",
    "columns = ['Fiber=1', 'Fiber=0']\n",
    "\n",
    "\n",
    "fiber_observed = pd.DataFrame([[716, 330], [982, 1901]], index=index, columns=columns)\n",
    "fiber_observed"
   ]
  },
  {
   "cell_type": "code",
   "execution_count": 34,
   "id": "b91909ed",
   "metadata": {},
   "outputs": [
    {
     "name": "stdout",
     "output_type": "stream",
     "text": [
      "Observed\n",
      "\n",
      "[[ 716  330]\n",
      " [ 982 1901]]\n",
      "---\n",
      "Expected\n",
      "\n",
      "[[ 452.05090354  593.94909646]\n",
      " [1245.94909646 1637.05090354]]\n",
      "---\n",
      "\n",
      "chi^2 = 368.4902\n",
      "p     = 0.0000\n",
      "We can reject the null hypothesis\n"
     ]
    }
   ],
   "source": [
    "fiber_chi2, fiber_p, fiber_degf, fiber_expected = stats.chi2_contingency(fiber_observed)\n",
    "\n",
    "print('Observed\\n')\n",
    "print(fiber_observed.values)\n",
    "print('---\\nExpected\\n')\n",
    "print(fiber_expected)\n",
    "print('---\\n')\n",
    "print(f'chi^2 = {fiber_chi2:.4f}')\n",
    "print(f'p     = {fiber_p:.4f}')\n",
    "if fiber_p < alpha:\n",
    "      print('We can reject the null hypothesis')\n",
    "else:\n",
    "    print('We fail to reject the null hypothesis')"
   ]
  },
  {
   "cell_type": "markdown",
   "id": "11266714",
   "metadata": {},
   "source": [
    "### 3. Is monthly charges driving factor for churn?"
   ]
  },
  {
   "cell_type": "markdown",
   "id": "18c3f81c",
   "metadata": {},
   "source": [
    "H0: Churn is independent to monthly charges\n",
    "H1: Churn is not independent to monthly charges"
   ]
  },
  {
   "cell_type": "code",
   "execution_count": 35,
   "id": "9ffeb352",
   "metadata": {},
   "outputs": [
    {
     "name": "stdout",
     "output_type": "stream",
     "text": [
      "We reject the null hypothesis\n"
     ]
    }
   ],
   "source": [
    "\n",
    "observed_data = pd.crosstab(train.churn_encoded, train['monthly_charges'])\n",
    "chi2, p, degf, expected = stats.chi2_contingency(observed_data)\n",
    "chi2, p, degf, expected\n",
    "if p<alpha:\n",
    "    print('We reject the null hypothesis')\n",
    "else:\n",
    "    print('We fail to reject the null hypothesis')"
   ]
  },
  {
   "cell_type": "markdown",
   "id": "af077f9f",
   "metadata": {},
   "source": [
    " ### 4.  Do seniors churn at a different rate?\n",
    "\n",
    "H0: Churn independent of senior status\n",
    "\n",
    "H1: Churn dependent on senior status\n",
    "\n",
    "Create Observation Table\n",
    "\n",
    "Use Chi^2 to determine whether there is a statistically significant difference between the expected frequencies and the observed frequencies in one or more categories of a contingency table."
   ]
  },
  {
   "cell_type": "code",
   "execution_count": 36,
   "id": "293eb87e",
   "metadata": {},
   "outputs": [
    {
     "data": {
      "text/html": [
       "<div>\n",
       "<style scoped>\n",
       "    .dataframe tbody tr th:only-of-type {\n",
       "        vertical-align: middle;\n",
       "    }\n",
       "\n",
       "    .dataframe tbody tr th {\n",
       "        vertical-align: top;\n",
       "    }\n",
       "\n",
       "    .dataframe thead th {\n",
       "        text-align: right;\n",
       "    }\n",
       "</style>\n",
       "<table border=\"1\" class=\"dataframe\">\n",
       "  <thead>\n",
       "    <tr style=\"text-align: right;\">\n",
       "      <th></th>\n",
       "      <th>Senior=1</th>\n",
       "      <th>Senior=0</th>\n",
       "    </tr>\n",
       "  </thead>\n",
       "  <tbody>\n",
       "    <tr>\n",
       "      <th>Churn</th>\n",
       "      <td>476</td>\n",
       "      <td>1393</td>\n",
       "    </tr>\n",
       "    <tr>\n",
       "      <th>No Churn</th>\n",
       "      <td>666</td>\n",
       "      <td>4497</td>\n",
       "    </tr>\n",
       "  </tbody>\n",
       "</table>\n",
       "</div>"
      ],
      "text/plain": [
       "          Senior=1  Senior=0\n",
       "Churn          476      1393\n",
       "No Churn       666      4497"
      ]
     },
     "execution_count": 36,
     "metadata": {},
     "output_type": "execute_result"
    }
   ],
   "source": [
    "# Make observation table\n",
    "\n",
    "index = ['Churn', 'No Churn']\n",
    "columns = ['Senior=1', 'Senior=0']\n",
    "\n",
    "senior_observed = pd.DataFrame([[churn.senior_citizen.value_counts()[1], churn.senior_citizen.value_counts()[0]], [no_churn.senior_citizen.value_counts()[1], no_churn.senior_citizen.value_counts()[0]]], index=index, columns=columns)\n",
    "senior_observed"
   ]
  },
  {
   "cell_type": "code",
   "execution_count": 37,
   "id": "d3da5d8e",
   "metadata": {},
   "outputs": [
    {
     "name": "stdout",
     "output_type": "stream",
     "text": [
      "Observed\n",
      "\n",
      "[[ 476 1393]\n",
      " [ 666 4497]]\n",
      "---\n",
      "Expected\n",
      "\n",
      "[[ 303.52645051 1565.47354949]\n",
      " [ 838.47354949 4324.52645051]]\n",
      "---\n",
      "\n",
      "chi^2 = 158.4408\n",
      "p     = 0.0000\n",
      "We can reject the null hypothesis\n"
     ]
    }
   ],
   "source": [
    "senior_chi2, senior_p, senior_degf, senior_expected = stats.chi2_contingency(senior_observed)\n",
    "alpha = 0.05\n",
    "\n",
    "print('Observed\\n')\n",
    "print(senior_observed.values)\n",
    "print('---\\nExpected\\n')\n",
    "print(senior_expected)\n",
    "print('---\\n')\n",
    "print(f'chi^2 = {senior_chi2:.4f}')\n",
    "print(f'p     = {senior_p:.4f}')\n",
    "if senior_p < alpha:\n",
    "      print('We can reject the null hypothesis')\n",
    "else:\n",
    "    print('We fail to reject the null hypothesis')"
   ]
  },
  {
   "cell_type": "markdown",
   "id": "683c87cf",
   "metadata": {},
   "source": [
    "### Modeling"
   ]
  },
  {
   "cell_type": "markdown",
   "id": "9e726ce9",
   "metadata": {},
   "source": [
    "- Create a baseline model using the available data\n",
    "- Using various algorithms, create classification models. We will create a baseline model first"
   ]
  },
  {
   "cell_type": "code",
   "execution_count": 38,
   "id": "5285d19e",
   "metadata": {},
   "outputs": [
    {
     "name": "stdout",
     "output_type": "stream",
     "text": [
      "3304\n",
      "1196\n"
     ]
    }
   ],
   "source": [
    "# What percentage of customers churn from train data\n",
    "cust_no_churn = train[train.churn_encoded == 0].shape[0]\n",
    "cust_churn = train[train.churn_encoded == 1].shape[0]\n",
    "\n",
    "print(cust_no_churn)\n",
    "print(cust_churn)"
   ]
  },
  {
   "cell_type": "code",
   "execution_count": 39,
   "id": "b4f08a81",
   "metadata": {},
   "outputs": [
    {
     "name": "stdout",
     "output_type": "stream",
     "text": [
      "Percentage of customer churned : 26.58 % of train customers\n",
      "Percentage of customer not churned : 73.42 % of train customers\n"
     ]
    }
   ],
   "source": [
    "print(f'Percentage of customer churned : {round((cust_churn/(cust_churn + cust_no_churn)) *100, 2)} % of train customers')\n",
    "print(f'Percentage of customer not churned : {round((cust_no_churn/(cust_churn + cust_no_churn)) *100, 2)} % of train customers')"
   ]
  },
  {
   "cell_type": "code",
   "execution_count": 44,
   "id": "565fdb21",
   "metadata": {},
   "outputs": [
    {
     "name": "stdout",
     "output_type": "stream",
     "text": [
      "The accuracy of our baseline model to predict customers that wont churn is: 73.42,)% \n"
     ]
    }
   ],
   "source": [
    "# Lets do some math to create a baseline model\n",
    "# Category with highest count is considered to be a positive prediction\n",
    "# So our baseline model will predict those that wont churn\n",
    "\n",
    "\n",
    "baseline_accuracy = cust_no_churn/len(train)*100 \n",
    "baseline_accuracy \n",
    "\n",
    "\n",
    "print(f'The accuracy of our baseline model to predict customers that wont churn is: {round(baseline_accuracy, 2)},)% ')"
   ]
  },
  {
   "cell_type": "code",
   "execution_count": 90,
   "id": "f4a72104",
   "metadata": {},
   "outputs": [],
   "source": [
    "def feature_target_selector(features, target, train=train, validate=validate, test=test):\n",
    "    X_train = train[features]\n",
    "    y_train = train[target]\n",
    "    X_validate = validate[features]\n",
    "    y_validate = validate[target]\n",
    "    X_test = test[features]\n",
    "    y_test = test[target]\n",
    "    return X_train, y_train, X_validate, y_validate, X_test, y_test"
   ]
  },
  {
   "cell_type": "code",
   "execution_count": 91,
   "id": "920a0d96",
   "metadata": {},
   "outputs": [
    {
     "data": {
      "text/plain": [
       "Index(['gender', 'senior_citizen', 'partner', 'dependents', 'tenure',\n",
       "       'phone_service', 'multiple_lines', 'online_security', 'online_backup',\n",
       "       'device_protection', 'tech_support', 'streaming_tv', 'streaming_movies',\n",
       "       'paperless_billing', 'monthly_charges', 'total_charges', 'churn',\n",
       "       'contract_type', 'internet_service_type', 'payment_type',\n",
       "       'gender_encoded', 'partner_encoded', 'dependents_encoded',\n",
       "       'phone_service_encoded', 'paperless_billing_encoded', 'churn_encoded',\n",
       "       'multiple_lines_No phone service', 'multiple_lines_Yes',\n",
       "       'online_security_No internet service', 'online_security_Yes',\n",
       "       'online_backup_No internet service', 'online_backup_Yes',\n",
       "       'device_protection_No internet service', 'device_protection_Yes',\n",
       "       'tech_support_No internet service', 'tech_support_Yes',\n",
       "       'streaming_tv_No internet service', 'streaming_tv_Yes',\n",
       "       'streaming_movies_No internet service', 'streaming_movies_Yes',\n",
       "       'contract_type_One year', 'contract_type_Two year',\n",
       "       'internet_service_type_Fiber optic', 'internet_service_type_None',\n",
       "       'payment_type_Credit card (automatic)', 'payment_type_Electronic check',\n",
       "       'payment_type_Mailed check'],\n",
       "      dtype='object')"
      ]
     },
     "execution_count": 91,
     "metadata": {},
     "output_type": "execute_result"
    }
   ],
   "source": [
    "train.columns"
   ]
  },
  {
   "cell_type": "code",
   "execution_count": 94,
   "id": "dcba8c64",
   "metadata": {},
   "outputs": [
    {
     "name": "stdout",
     "output_type": "stream",
     "text": [
      "<class 'pandas.core.frame.DataFrame'>\n",
      "Int64Index: 4500 entries, 3968 to 4011\n",
      "Data columns (total 47 columns):\n",
      " #   Column                                 Non-Null Count  Dtype  \n",
      "---  ------                                 --------------  -----  \n",
      " 0   gender                                 4500 non-null   object \n",
      " 1   senior_citizen                         4500 non-null   int64  \n",
      " 2   partner                                4500 non-null   object \n",
      " 3   dependents                             4500 non-null   object \n",
      " 4   tenure                                 4500 non-null   int64  \n",
      " 5   phone_service                          4500 non-null   object \n",
      " 6   multiple_lines                         4500 non-null   object \n",
      " 7   online_security                        4500 non-null   object \n",
      " 8   online_backup                          4500 non-null   object \n",
      " 9   device_protection                      4500 non-null   object \n",
      " 10  tech_support                           4500 non-null   object \n",
      " 11  streaming_tv                           4500 non-null   object \n",
      " 12  streaming_movies                       4500 non-null   object \n",
      " 13  paperless_billing                      4500 non-null   object \n",
      " 14  monthly_charges                        4500 non-null   float64\n",
      " 15  total_charges                          4500 non-null   float64\n",
      " 16  churn                                  4500 non-null   object \n",
      " 17  contract_type                          4500 non-null   object \n",
      " 18  internet_service_type                  4500 non-null   object \n",
      " 19  payment_type                           4500 non-null   object \n",
      " 20  gender_encoded                         4500 non-null   int64  \n",
      " 21  partner_encoded                        4500 non-null   int64  \n",
      " 22  dependents_encoded                     4500 non-null   int64  \n",
      " 23  phone_service_encoded                  4500 non-null   int64  \n",
      " 24  paperless_billing_encoded              4500 non-null   int64  \n",
      " 25  churn_encoded                          4500 non-null   int64  \n",
      " 26  multiple_lines_No phone service        4500 non-null   uint8  \n",
      " 27  multiple_lines_Yes                     4500 non-null   uint8  \n",
      " 28  online_security_No internet service    4500 non-null   uint8  \n",
      " 29  online_security_Yes                    4500 non-null   uint8  \n",
      " 30  online_backup_No internet service      4500 non-null   uint8  \n",
      " 31  online_backup_Yes                      4500 non-null   uint8  \n",
      " 32  device_protection_No internet service  4500 non-null   uint8  \n",
      " 33  device_protection_Yes                  4500 non-null   uint8  \n",
      " 34  tech_support_No internet service       4500 non-null   uint8  \n",
      " 35  tech_support_Yes                       4500 non-null   uint8  \n",
      " 36  streaming_tv_No internet service       4500 non-null   uint8  \n",
      " 37  streaming_tv_Yes                       4500 non-null   uint8  \n",
      " 38  streaming_movies_No internet service   4500 non-null   uint8  \n",
      " 39  streaming_movies_Yes                   4500 non-null   uint8  \n",
      " 40  contract_type_One year                 4500 non-null   uint8  \n",
      " 41  contract_type_Two year                 4500 non-null   uint8  \n",
      " 42  internet_service_type_Fiber optic      4500 non-null   uint8  \n",
      " 43  internet_service_type_None             4500 non-null   uint8  \n",
      " 44  payment_type_Credit card (automatic)   4500 non-null   uint8  \n",
      " 45  payment_type_Electronic check          4500 non-null   uint8  \n",
      " 46  payment_type_Mailed check              4500 non-null   uint8  \n",
      "dtypes: float64(2), int64(8), object(16), uint8(21)\n",
      "memory usage: 1.1+ MB\n"
     ]
    }
   ],
   "source": [
    "train.info()"
   ]
  },
  {
   "cell_type": "code",
   "execution_count": 95,
   "id": "d84714bc",
   "metadata": {},
   "outputs": [],
   "source": [
    "features = ['senior_citizen', 'monthly_charges', 'tenure', 'paperless_billing_encoded', 'internet_service_type_Fiber optic', 'payment_type_Electronic check']\n",
    "target = ['churn_encoded']\n",
    "X_train, y_train, X_validate, y_validate, X_test, y_test = feature_target_selector(features, target)"
   ]
  },
  {
   "cell_type": "code",
   "execution_count": 99,
   "id": "2b02edb2",
   "metadata": {},
   "outputs": [],
   "source": [
    "import numpy as np\n",
    "\n",
    "import pandas as pd\n",
    "\n",
    "import seaborn as sns\n",
    "\n",
    "import matplotlib.pyplot as plt\n",
    "from sklearn.model_selection import train_test_split\n",
    "from sklearn.linear_model import LogisticRegression\n",
    "\n",
    "# import splitting and imputing functions\n",
    "from sklearn.model_selection import train_test_split\n",
    "from sklearn.impute import SimpleImputer"
   ]
  },
  {
   "cell_type": "markdown",
   "id": "b097a04f",
   "metadata": {},
   "source": [
    "### Logistic Regression\n",
    "### Model 1"
   ]
  },
  {
   "cell_type": "code",
   "execution_count": 101,
   "id": "11332fd1",
   "metadata": {},
   "outputs": [
    {
     "name": "stdout",
     "output_type": "stream",
     "text": [
      "Coefficient: \n",
      " [[ 0.48124359  0.01020993 -0.0445919   0.47562694  0.9078825   0.52509706]]\n",
      "Intercept: \n",
      " [-1.56886161]\n"
     ]
    }
   ],
   "source": [
    "logit = LogisticRegression(random_state=123, solver='lbfgs')\n",
    "logit.fit(X_train, y_train)\n",
    "print('Coefficient: \\n', logit.coef_)\n",
    "print('Intercept: \\n', logit.intercept_)"
   ]
  },
  {
   "cell_type": "code",
   "execution_count": 102,
   "id": "e78d3001",
   "metadata": {},
   "outputs": [],
   "source": [
    "y_pred1 = logit.predict(X_train)\n",
    "y_pred1_proba = logit.predict_proba(X_train)"
   ]
  },
  {
   "cell_type": "code",
   "execution_count": 103,
   "id": "c1cf3d07",
   "metadata": {},
   "outputs": [
    {
     "data": {
      "text/plain": [
       "array([[3015,  289],\n",
       "       [ 631,  565]])"
      ]
     },
     "execution_count": 103,
     "metadata": {},
     "output_type": "execute_result"
    }
   ],
   "source": [
    "confusion_matrix(y_train, y_pred1)"
   ]
  },
  {
   "cell_type": "code",
   "execution_count": 104,
   "id": "90b857dc",
   "metadata": {},
   "outputs": [
    {
     "name": "stdout",
     "output_type": "stream",
     "text": [
      "              precision    recall  f1-score   support\n",
      "\n",
      "           0       0.83      0.91      0.87      3304\n",
      "           1       0.66      0.47      0.55      1196\n",
      "\n",
      "    accuracy                           0.80      4500\n",
      "   macro avg       0.74      0.69      0.71      4500\n",
      "weighted avg       0.78      0.80      0.78      4500\n",
      "\n"
     ]
    }
   ],
   "source": [
    "print(classification_report(y_train, y_pred1))"
   ]
  },
  {
   "cell_type": "code",
   "execution_count": 110,
   "id": "5352d002",
   "metadata": {},
   "outputs": [
    {
     "name": "stdout",
     "output_type": "stream",
     "text": [
      "Accuracy of Logistic Regression classifier on training set: 0.80\n",
      "F1 score of Logistic Regression classifier on training set: 0.55\n",
      "Recall of Logistic Regression classifier on training set: 0.47\n"
     ]
    }
   ],
   "source": [
    "tp=565 \n",
    "tn = 3015\n",
    "fn=631\n",
    "fp=289\n",
    "\n",
    "print('Accuracy of Logistic Regression classifier on training set: {:.2f}'\n",
    "     .format(logit.score(X_train, y_train)))\n",
    "\n",
    "print('F1 score of Logistic Regression classifier on training set: {:.2f}'\n",
    "     .format(f1_score(y_train, y_pred1)))\n",
    "\n",
    "recall_logit = tp/(tp+fn)\n",
    "\n",
    "print('Recall of Logistic Regression classifier on training set: {:.2f}'\n",
    "     .format(recall_logit))"
   ]
  },
  {
   "cell_type": "markdown",
   "id": "3e378ae0",
   "metadata": {},
   "source": [
    "### Decision Tree\n",
    "### Model 2"
   ]
  },
  {
   "cell_type": "code",
   "execution_count": 154,
   "id": "e855cd1a",
   "metadata": {},
   "outputs": [],
   "source": [
    "# keeping max_depth as 10 and creating our model\n",
    "\n",
    "clf2 = DecisionTreeClassifier(max_depth = 10, random_state = 123)"
   ]
  },
  {
   "cell_type": "code",
   "execution_count": 155,
   "id": "a3a5ed9a",
   "metadata": {},
   "outputs": [
    {
     "data": {
      "text/plain": [
       "DecisionTreeClassifier(max_depth=10, random_state=123)"
      ]
     },
     "execution_count": 155,
     "metadata": {},
     "output_type": "execute_result"
    }
   ],
   "source": [
    "# fitting our model\n",
    "\n",
    "clf2.fit(X_train, y_train)"
   ]
  },
  {
   "cell_type": "code",
   "execution_count": 156,
   "id": "bd184855",
   "metadata": {},
   "outputs": [
    {
     "data": {
      "text/plain": [
       "0.8655555555555555"
      ]
     },
     "execution_count": 156,
     "metadata": {},
     "output_type": "execute_result"
    }
   ],
   "source": [
    "# Calculating accuracy\n",
    "\n",
    "clf2.score(X_train, y_train)"
   ]
  },
  {
   "cell_type": "code",
   "execution_count": 157,
   "id": "0871574e",
   "metadata": {},
   "outputs": [],
   "source": [
    "# predicting y \n",
    "\n",
    "y_pred2 = clf3.predict(X_train)"
   ]
  },
  {
   "cell_type": "code",
   "execution_count": 158,
   "id": "0314bed1",
   "metadata": {},
   "outputs": [
    {
     "name": "stdout",
     "output_type": "stream",
     "text": [
      "              precision    recall  f1-score   support\n",
      "\n",
      "           0       0.88      0.94      0.91      3304\n",
      "           1       0.80      0.66      0.72      1196\n",
      "\n",
      "    accuracy                           0.87      4500\n",
      "   macro avg       0.84      0.80      0.82      4500\n",
      "weighted avg       0.86      0.87      0.86      4500\n",
      "\n"
     ]
    }
   ],
   "source": [
    "# Classification Report \n",
    "\n",
    "print(classification_report(y_train, y_pred2))"
   ]
  },
  {
   "cell_type": "markdown",
   "id": "002a5cc5",
   "metadata": {},
   "source": [
    "### Model 2 accuracy = 87%"
   ]
  },
  {
   "cell_type": "markdown",
   "id": "e2ba4db9",
   "metadata": {},
   "source": [
    "### Model 3"
   ]
  },
  {
   "cell_type": "code",
   "execution_count": 122,
   "id": "15781c34",
   "metadata": {},
   "outputs": [],
   "source": [
    "# keeping max_depth as 7and creating our model\n",
    "\n",
    "clf4 = DecisionTreeClassifier(max_depth = 7, random_state = 129)"
   ]
  },
  {
   "cell_type": "code",
   "execution_count": 123,
   "id": "0fbf9a53",
   "metadata": {},
   "outputs": [
    {
     "data": {
      "text/plain": [
       "DecisionTreeClassifier(max_depth=7, random_state=129)"
      ]
     },
     "execution_count": 123,
     "metadata": {},
     "output_type": "execute_result"
    }
   ],
   "source": [
    "# fitting our model\n",
    "\n",
    "clf4.fit(X_train, y_train)"
   ]
  },
  {
   "cell_type": "code",
   "execution_count": 125,
   "id": "c983a626",
   "metadata": {},
   "outputs": [
    {
     "data": {
      "text/plain": [
       "0.8188888888888889"
      ]
     },
     "execution_count": 125,
     "metadata": {},
     "output_type": "execute_result"
    }
   ],
   "source": [
    "# Calculating accuracy\n",
    "\n",
    "clf4.score(X_train, y_train)"
   ]
  },
  {
   "cell_type": "code",
   "execution_count": 126,
   "id": "86557e1f",
   "metadata": {},
   "outputs": [],
   "source": [
    "# predicting y \n",
    "\n",
    "y_pred4 = clf4.predict(X_train)"
   ]
  },
  {
   "cell_type": "code",
   "execution_count": 127,
   "id": "6995698f",
   "metadata": {},
   "outputs": [
    {
     "name": "stdout",
     "output_type": "stream",
     "text": [
      "              precision    recall  f1-score   support\n",
      "\n",
      "           0       0.86      0.91      0.88      3304\n",
      "           1       0.69      0.58      0.63      1196\n",
      "\n",
      "    accuracy                           0.82      4500\n",
      "   macro avg       0.77      0.74      0.75      4500\n",
      "weighted avg       0.81      0.82      0.81      4500\n",
      "\n"
     ]
    }
   ],
   "source": [
    "# Classification Report \n",
    "\n",
    "print(classification_report(y_train, y_pred4))"
   ]
  },
  {
   "cell_type": "markdown",
   "id": "146e4a4c",
   "metadata": {},
   "source": [
    "### Model 3 accuracy = 82%\n",
    "### Random Forest\n",
    "\n",
    "### Model 4"
   ]
  },
  {
   "cell_type": "code",
   "execution_count": 128,
   "id": "e84cdf17",
   "metadata": {},
   "outputs": [],
   "source": [
    "# creating a model with max_depth of 5, and min samples leaf of 5\n",
    "\n",
    "\n",
    "rf1 = RandomForestClassifier(random_state = 139, max_depth = 5, min_samples_leaf = 5)"
   ]
  },
  {
   "cell_type": "code",
   "execution_count": 129,
   "id": "383fd99c",
   "metadata": {},
   "outputs": [
    {
     "data": {
      "text/plain": [
       "RandomForestClassifier(max_depth=5, min_samples_leaf=5, random_state=139)"
      ]
     },
     "execution_count": 129,
     "metadata": {},
     "output_type": "execute_result"
    }
   ],
   "source": [
    "# fitting our model\n",
    "\n",
    "rf1.fit(X_train, y_train)"
   ]
  },
  {
   "cell_type": "code",
   "execution_count": 131,
   "id": "e3f44786",
   "metadata": {},
   "outputs": [
    {
     "data": {
      "text/plain": [
       "0.8013333333333333"
      ]
     },
     "execution_count": 131,
     "metadata": {},
     "output_type": "execute_result"
    }
   ],
   "source": [
    "# Calculate accuracy\n",
    "\n",
    "rf1.score(X_train, y_train)"
   ]
  },
  {
   "cell_type": "code",
   "execution_count": 132,
   "id": "24a89981",
   "metadata": {},
   "outputs": [],
   "source": [
    "# Predicting y\n",
    "\n",
    "y_pred5 = rf1.predict(X_train)"
   ]
  },
  {
   "cell_type": "code",
   "execution_count": 133,
   "id": "e4581023",
   "metadata": {},
   "outputs": [
    {
     "name": "stdout",
     "output_type": "stream",
     "text": [
      "              precision    recall  f1-score   support\n",
      "\n",
      "           0       0.82      0.93      0.87      3304\n",
      "           1       0.70      0.44      0.54      1196\n",
      "\n",
      "    accuracy                           0.80      4500\n",
      "   macro avg       0.76      0.69      0.71      4500\n",
      "weighted avg       0.79      0.80      0.79      4500\n",
      "\n"
     ]
    }
   ],
   "source": [
    "# Classification Report\n",
    "\n",
    "print(classification_report(y_train, y_pred5))"
   ]
  },
  {
   "cell_type": "markdown",
   "id": "d92bcf04",
   "metadata": {},
   "source": [
    "### Model 4 accuracy = 80%\n",
    "### Model 5"
   ]
  },
  {
   "cell_type": "code",
   "execution_count": 161,
   "id": "4158d0bc",
   "metadata": {},
   "outputs": [],
   "source": [
    "# creating a model with max_depth of 7, and min samples leaf of 10\n",
    "\n",
    "rf5 = RandomForestClassifier(random_state = 139, max_depth = 7, min_samples_leaf = 10)"
   ]
  },
  {
   "cell_type": "code",
   "execution_count": 162,
   "id": "b5d81e23",
   "metadata": {},
   "outputs": [
    {
     "data": {
      "text/plain": [
       "RandomForestClassifier(max_depth=7, min_samples_leaf=10, random_state=139)"
      ]
     },
     "execution_count": 162,
     "metadata": {},
     "output_type": "execute_result"
    }
   ],
   "source": [
    "# fitting our model\n",
    "\n",
    "rf5.fit(X_train, y_train)"
   ]
  },
  {
   "cell_type": "code",
   "execution_count": 138,
   "id": "5af0fd56",
   "metadata": {},
   "outputs": [
    {
     "data": {
      "text/plain": [
       "0.8135555555555556"
      ]
     },
     "execution_count": 138,
     "metadata": {},
     "output_type": "execute_result"
    }
   ],
   "source": [
    "# Calculate accuracy\n",
    "\n",
    "rf5.score(X_train, y_train)"
   ]
  },
  {
   "cell_type": "code",
   "execution_count": 163,
   "id": "2a93cb8c",
   "metadata": {},
   "outputs": [],
   "source": [
    "# Predicting y\n",
    "\n",
    "y_pred5 = rf5.predict(X_train)"
   ]
  },
  {
   "cell_type": "code",
   "execution_count": 164,
   "id": "0ec193df",
   "metadata": {},
   "outputs": [
    {
     "name": "stdout",
     "output_type": "stream",
     "text": [
      "              precision    recall  f1-score   support\n",
      "\n",
      "           0       0.84      0.93      0.88      3304\n",
      "           1       0.72      0.50      0.59      1196\n",
      "\n",
      "    accuracy                           0.81      4500\n",
      "   macro avg       0.78      0.71      0.73      4500\n",
      "weighted avg       0.80      0.81      0.80      4500\n",
      "\n"
     ]
    }
   ],
   "source": [
    "# Classification Report\n",
    "\n",
    "print(classification_report(y_train, y_pred5))"
   ]
  },
  {
   "cell_type": "markdown",
   "id": "2cc1e45a",
   "metadata": {},
   "source": [
    "### Model 5 accuracy = 81%\n",
    "### KNN\n",
    "\n",
    "### Model 6"
   ]
  },
  {
   "cell_type": "code",
   "execution_count": 141,
   "id": "fb51241f",
   "metadata": {},
   "outputs": [],
   "source": [
    "# creating a KNN model\n",
    "\n",
    "\n",
    "knn1 = KNeighborsClassifier(n_neighbors = 10)"
   ]
  },
  {
   "cell_type": "code",
   "execution_count": 142,
   "id": "c43a6543",
   "metadata": {},
   "outputs": [
    {
     "data": {
      "text/plain": [
       "KNeighborsClassifier(n_neighbors=10)"
      ]
     },
     "execution_count": 142,
     "metadata": {},
     "output_type": "execute_result"
    }
   ],
   "source": [
    "# fitting our model\n",
    "\n",
    "knn1.fit(X_train, y_train)"
   ]
  },
  {
   "cell_type": "code",
   "execution_count": 143,
   "id": "d545d624",
   "metadata": {},
   "outputs": [
    {
     "data": {
      "text/plain": [
       "0.8084444444444444"
      ]
     },
     "execution_count": 143,
     "metadata": {},
     "output_type": "execute_result"
    }
   ],
   "source": [
    "# Calculating accuracy\n",
    "\n",
    "\n",
    "knn1.score(X_train, y_train)"
   ]
  },
  {
   "cell_type": "code",
   "execution_count": 144,
   "id": "dda01e06",
   "metadata": {},
   "outputs": [],
   "source": [
    "# predicting y\n",
    "\n",
    "y_pred7 = knn1.predict(X_train)"
   ]
  },
  {
   "cell_type": "code",
   "execution_count": 145,
   "id": "b9e428cf",
   "metadata": {},
   "outputs": [
    {
     "name": "stdout",
     "output_type": "stream",
     "text": [
      "              precision    recall  f1-score   support\n",
      "\n",
      "           0       0.82      0.94      0.88      3304\n",
      "           1       0.73      0.44      0.55      1196\n",
      "\n",
      "    accuracy                           0.81      4500\n",
      "   macro avg       0.78      0.69      0.71      4500\n",
      "weighted avg       0.80      0.81      0.79      4500\n",
      "\n"
     ]
    }
   ],
   "source": [
    "# Classification Report\n",
    "\n",
    "print(classification_report(y_train, y_pred7))"
   ]
  },
  {
   "cell_type": "markdown",
   "id": "1a16c738",
   "metadata": {},
   "source": [
    "### Model 6 accuracy = 81%\n",
    "### Model 7"
   ]
  },
  {
   "cell_type": "code",
   "execution_count": 166,
   "id": "10dea873",
   "metadata": {},
   "outputs": [],
   "source": [
    "# creating a KNN model\n",
    "\n",
    "knn7 = KNeighborsClassifier(n_neighbors = 5)"
   ]
  },
  {
   "cell_type": "code",
   "execution_count": 167,
   "id": "f433348d",
   "metadata": {},
   "outputs": [
    {
     "data": {
      "text/plain": [
       "KNeighborsClassifier()"
      ]
     },
     "execution_count": 167,
     "metadata": {},
     "output_type": "execute_result"
    }
   ],
   "source": [
    "# fitting our model\n",
    "\n",
    "knn7.fit(X_train, y_train)"
   ]
  },
  {
   "cell_type": "code",
   "execution_count": 168,
   "id": "a263b35e",
   "metadata": {},
   "outputs": [
    {
     "data": {
      "text/plain": [
       "0.8388888888888889"
      ]
     },
     "execution_count": 168,
     "metadata": {},
     "output_type": "execute_result"
    }
   ],
   "source": [
    "# Calculating accuracy\n",
    "\n",
    "\n",
    "knn7.score(X_train, y_train)"
   ]
  },
  {
   "cell_type": "code",
   "execution_count": 169,
   "id": "8f8b8782",
   "metadata": {},
   "outputs": [],
   "source": [
    "# predicting y\n",
    "\n",
    "y_pred7 = knn2.predict(X_train)"
   ]
  },
  {
   "cell_type": "code",
   "execution_count": 170,
   "id": "2d8998d5",
   "metadata": {},
   "outputs": [
    {
     "name": "stdout",
     "output_type": "stream",
     "text": [
      "              precision    recall  f1-score   support\n",
      "\n",
      "           0       0.86      0.93      0.89      3304\n",
      "           1       0.75      0.60      0.66      1196\n",
      "\n",
      "    accuracy                           0.84      4500\n",
      "   macro avg       0.81      0.76      0.78      4500\n",
      "weighted avg       0.83      0.84      0.83      4500\n",
      "\n"
     ]
    }
   ],
   "source": [
    "# Classification Report\n",
    "\n",
    "print(classification_report(y_train, y_pred7))"
   ]
  },
  {
   "cell_type": "markdown",
   "id": "f6099d36",
   "metadata": {},
   "source": [
    "### Model 7 accuracy = 84%"
   ]
  },
  {
   "cell_type": "markdown",
   "id": "026a1df7",
   "metadata": {},
   "source": [
    "### We will use one of the best model from each algorithnm to validate dataset"
   ]
  },
  {
   "cell_type": "markdown",
   "id": "b195b4c9",
   "metadata": {},
   "source": [
    "### Validate with logistic model; Model 1"
   ]
  },
  {
   "cell_type": "code",
   "execution_count": 152,
   "id": "ebfa7b1c",
   "metadata": {},
   "outputs": [
    {
     "name": "stdout",
     "output_type": "stream",
     "text": [
      "Model 1: Logistic Regression\n",
      "Accuracy: 0.79\n",
      "[[749  77]\n",
      " [155 144]]\n",
      "              precision    recall  f1-score   support\n",
      "\n",
      "           0       0.83      0.91      0.87       826\n",
      "           1       0.65      0.48      0.55       299\n",
      "\n",
      "    accuracy                           0.79      1125\n",
      "   macro avg       0.74      0.69      0.71      1125\n",
      "weighted avg       0.78      0.79      0.78      1125\n",
      "\n"
     ]
    }
   ],
   "source": [
    "print(\"Model 1: Logistic Regression\")\n",
    "\n",
    "print('Accuracy: {:.2f}'.format(logit.score(X_validate, y_validate)))\n",
    "\n",
    "y_pred1 = logit.predict(X_validate)\n",
    "\n",
    "print(confusion_matrix(y_validate, y_pred1))\n",
    "\n",
    "print(classification_report(y_validate, y_pred1))"
   ]
  },
  {
   "cell_type": "code",
   "execution_count": 160,
   "id": "c10c8292",
   "metadata": {},
   "outputs": [
    {
     "name": "stdout",
     "output_type": "stream",
     "text": [
      "Model 2: Decision Tree\n",
      "Accuracy: 0.77\n",
      "[[717 109]\n",
      " [153 146]]\n",
      "              precision    recall  f1-score   support\n",
      "\n",
      "           0       0.82      0.87      0.85       826\n",
      "           1       0.57      0.49      0.53       299\n",
      "\n",
      "    accuracy                           0.77      1125\n",
      "   macro avg       0.70      0.68      0.69      1125\n",
      "weighted avg       0.76      0.77      0.76      1125\n",
      "\n"
     ]
    }
   ],
   "source": [
    "print(\"Model 2: Decision Tree\")\n",
    "\n",
    "print('Accuracy: {:.2f}'.format(clf2.score(X_validate, y_validate)))\n",
    "\n",
    "y_pred2 = clf2.predict(X_validate)\n",
    "\n",
    "print(confusion_matrix(y_validate, y_pred2))\n",
    "\n",
    "print(classification_report(y_validate, y_pred2))"
   ]
  },
  {
   "cell_type": "code",
   "execution_count": 173,
   "id": "828f249b",
   "metadata": {},
   "outputs": [
    {
     "name": "stdout",
     "output_type": "stream",
     "text": [
      "Model 5: Random Forest\n",
      "Accuracy: 0.80\n",
      "[[753  73]\n",
      " [148 151]]\n",
      "              precision    recall  f1-score   support\n",
      "\n",
      "           0       0.84      0.91      0.87       826\n",
      "           1       0.67      0.51      0.58       299\n",
      "\n",
      "    accuracy                           0.80      1125\n",
      "   macro avg       0.75      0.71      0.72      1125\n",
      "weighted avg       0.79      0.80      0.79      1125\n",
      "\n"
     ]
    }
   ],
   "source": [
    "print(\"Model 5: Random Forest\")\n",
    "\n",
    "print('Accuracy: {:.2f}'.format(rf5.score(X_validate, y_validate)))\n",
    "\n",
    "y_pred5 = rf5.predict(X_validate)\n",
    "\n",
    "print(confusion_matrix(y_validate, y_pred5))\n",
    "\n",
    "print(classification_report(y_validate, y_pred5))"
   ]
  },
  {
   "cell_type": "code",
   "execution_count": 172,
   "id": "cabe3dc0",
   "metadata": {},
   "outputs": [
    {
     "name": "stdout",
     "output_type": "stream",
     "text": [
      "Model 5: Random Forest\n",
      "Accuracy: 0.76\n",
      "[[717 109]\n",
      " [160 139]]\n",
      "              precision    recall  f1-score   support\n",
      "\n",
      "           0       0.82      0.87      0.84       826\n",
      "           1       0.56      0.46      0.51       299\n",
      "\n",
      "    accuracy                           0.76      1125\n",
      "   macro avg       0.69      0.67      0.68      1125\n",
      "weighted avg       0.75      0.76      0.75      1125\n",
      "\n"
     ]
    }
   ],
   "source": [
    "print(\"Model 5: Random Forest\")\n",
    "\n",
    "print('Accuracy: {:.2f}'.format(knn7.score(X_validate, y_validate)))\n",
    "\n",
    "y_pred7 = knn7.predict(X_validate)\n",
    "\n",
    "print(confusion_matrix(y_validate, y_pred7))\n",
    "\n",
    "print(classification_report(y_validate, y_pred7))"
   ]
  },
  {
   "cell_type": "markdown",
   "id": "572de42f",
   "metadata": {},
   "source": [
    "### Out of all the models, we will choose the random forest model because it had the highest accuracy with validate data"
   ]
  },
  {
   "cell_type": "markdown",
   "id": "1967098b",
   "metadata": {},
   "source": [
    "### Test with random forest model: Model 5"
   ]
  },
  {
   "cell_type": "code",
   "execution_count": 175,
   "id": "9f89da3e",
   "metadata": {},
   "outputs": [
    {
     "name": "stdout",
     "output_type": "stream",
     "text": [
      "Test Performance: Random Forest\n",
      "Accuracy: 0.7974\n",
      "[[949  84]\n",
      " [201 173]]\n",
      "              precision    recall  f1-score   support\n",
      "\n",
      "           0       0.83      0.92      0.87      1033\n",
      "           1       0.67      0.46      0.55       374\n",
      "\n",
      "    accuracy                           0.80      1407\n",
      "   macro avg       0.75      0.69      0.71      1407\n",
      "weighted avg       0.78      0.80      0.78      1407\n",
      "\n"
     ]
    }
   ],
   "source": [
    "print(\"Test Performance: Random Forest\")\n",
    "\n",
    "print('Accuracy: {:.4f}'.format(rf5.score(X_test, y_test)))\n",
    "\n",
    "y_pred5 = rf5.predict(X_test)\n",
    "\n",
    "print(confusion_matrix(y_test, y_pred5))\n",
    "\n",
    "print(classification_report(y_test, y_pred5))F"
   ]
  },
  {
   "cell_type": "markdown",
   "id": "ed40d738",
   "metadata": {},
   "source": [
    "### Baseline has an accuracy of 73.42%\n",
    "\n",
    "### The developed logistic regression model has an accuracy of 80.00%"
   ]
  },
  {
   "cell_type": "markdown",
   "id": "d99b58b1",
   "metadata": {},
   "source": [
    "### Creating a csv to turn in"
   ]
  },
  {
   "cell_type": "code",
   "execution_count": 176,
   "id": "5071d16b",
   "metadata": {},
   "outputs": [
    {
     "ename": "NameError",
     "evalue": "name 'prep_telco_data_prediction' is not defined",
     "output_type": "error",
     "traceback": [
      "\u001b[0;31m---------------------------------------------------------------------------\u001b[0m",
      "\u001b[0;31mNameError\u001b[0m                                 Traceback (most recent call last)",
      "\u001b[0;32m/var/folders/zq/x5sj66553p9dvbt1_y838q_h0000gn/T/ipykernel_65087/385819677.py\u001b[0m in \u001b[0;36m<module>\u001b[0;34m\u001b[0m\n\u001b[0;32m----> 1\u001b[0;31m \u001b[0mfull_df\u001b[0m \u001b[0;34m=\u001b[0m \u001b[0mprep_telco_data_prediction\u001b[0m\u001b[0;34m(\u001b[0m\u001b[0mtelco_original\u001b[0m\u001b[0;34m)\u001b[0m\u001b[0;34m\u001b[0m\u001b[0;34m\u001b[0m\u001b[0m\n\u001b[0m",
      "\u001b[0;31mNameError\u001b[0m: name 'prep_telco_data_prediction' is not defined"
     ]
    }
   ],
   "source": [
    "full_df = prep_telco_data_prediction(telco_original)"
   ]
  },
  {
   "cell_type": "code",
   "execution_count": 177,
   "id": "2bfd7ee7",
   "metadata": {},
   "outputs": [],
   "source": [
    "#concat the train, test, split dataset\n",
    "\n",
    "#sort the dataframe by index\n",
    "\n",
    "\n",
    "\n",
    "final_csv = pd.concat([train, test, validate ])\n",
    "\n",
    "\n",
    "final_csv = final_csv.sort_index()"
   ]
  },
  {
   "cell_type": "code",
   "execution_count": 182,
   "id": "52ead93e",
   "metadata": {},
   "outputs": [
    {
     "ename": "SyntaxError",
     "evalue": "invalid syntax (3813106335.py, line 8)",
     "output_type": "error",
     "traceback": [
      "\u001b[0;36m  File \u001b[0;32m\"/var/folders/zq/x5sj66553p9dvbt1_y838q_h0000gn/T/ipykernel_65087/3813106335.py\"\u001b[0;36m, line \u001b[0;32m8\u001b[0m\n\u001b[0;31m    y_final = final_csv.churn\u001b[0m\n\u001b[0m    ^\u001b[0m\n\u001b[0;31mSyntaxError\u001b[0m\u001b[0;31m:\u001b[0m invalid syntax\n"
     ]
    }
   ],
   "source": [
    "# creating x and y to predict the customers churn using the same variables we used to build the model\n",
    "\n",
    "\n",
    "\n",
    "\n",
    "x_final = final_csv.drop(columns = ['senior_citizen', 'monthly_charges', 'tenure', 'paperless_billing_encoded', 'internet_service_type_Fiber optic', 'payment_type_Electronic check']\n",
    "\n",
    "y_final = final_csv.churn"
   ]
  },
  {
   "cell_type": "code",
   "execution_count": null,
   "id": "8055e4e4",
   "metadata": {},
   "outputs": [],
   "source": []
  }
 ],
 "metadata": {
  "kernelspec": {
   "display_name": "Python 3 (ipykernel)",
   "language": "python",
   "name": "python3"
  },
  "language_info": {
   "codemirror_mode": {
    "name": "ipython",
    "version": 3
   },
   "file_extension": ".py",
   "mimetype": "text/x-python",
   "name": "python",
   "nbconvert_exporter": "python",
   "pygments_lexer": "ipython3",
   "version": "3.8.8"
  }
 },
 "nbformat": 4,
 "nbformat_minor": 5
}
